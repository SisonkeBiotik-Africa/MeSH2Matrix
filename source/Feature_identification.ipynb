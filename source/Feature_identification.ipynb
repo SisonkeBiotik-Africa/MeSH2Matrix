{
  "nbformat": 4,
  "nbformat_minor": 0,
  "metadata": {
    "colab": {
      "provenance": [],
      "collapsed_sections": []
    },
    "kernelspec": {
      "name": "python3",
      "display_name": "Python 3"
    },
    "language_info": {
      "name": "python"
    }
  },
  "cells": [
    {
      "cell_type": "code",
      "source": [
        "qualifiers = [\"analysis\", \"blood\", \"cerebrospinal fluid\", \"isolation & purification\",\n",
        "              \"urine\", \"anatomy & histology\", \"blood supply\", \"cytology\", \"ultrastructure\",\n",
        "              \"embryology\", \"abnormalities\", \"innervation\", \"pathology\", \"chemistry\",\n",
        "              \"agonists\", \"analogs & derivatives\", \"antagonists & inhibitors\",\n",
        "              \"chemical synthesis\", \"diagnosis\", \"diagnostic imaging\", \"etiology\",\n",
        "              \"chemically induced\", \"complications\", \"secondary\", \"congenital\",\n",
        "              \"embryology\", \"genetics\", \"immunology\", \"microbiology\", \"virology\",\n",
        "              \"parasitology\", \"transmission\", \"organization & administration\",\n",
        "              \"economics\", \"legislation & jurisprudence\", \"standards\",\n",
        "              \"supply & distribution\", \"trends\", \"pharmacology\", \"adminstration & dosage\",\n",
        "              \"adverse effects\", \"poisoning\", \"toxicity\", \"agonists\",\n",
        "              \"antagonists & inhibitors\", \"pharmacokinetics\", \"physiology\", \"genetics\",\n",
        "              \"growth & development\", \"immunology\", \"metabolism\", \"biosynthesis\", \"blood\",\n",
        "              \"cerebrospinal fluid\", \"deficiency\", \"enzymology\", \"pharmacokinetics\", \"urine\",\n",
        "              \"physiopathology\", \"statistics & numerical data\", \"epidemiology\", \"ethnology\",\n",
        "              \"mortality\", \"supply & distribution\", \"therapeutic use\", \"administration & dosage\",\n",
        "              \"adverse effects\", \"poisoning\", \"therapy\", \"diet therapy\", \"drug therapy\",\n",
        "              \"nursing\", \"prevention & control\", \"radiotherapy\", \"rehabilitation\", \"surgery\",\n",
        "              \"transplantation\", \"classification\", \"drug effects\", \"education\", \"ethics\", \"history\",\n",
        "              \"injuries\", \"instrumentation\", \"methods\", \"pathogenicity\", \"psychology\", \"radiation effects\",\n",
        "              \"veterinary\"]"
      ],
      "metadata": {
        "id": "_utkF8LMXqqA"
      },
      "execution_count": 2,
      "outputs": []
    },
    {
      "cell_type": "code",
      "source": [
        "n = int(input(\"Please give the ID for the feature\"))"
      ],
      "metadata": {
        "colab": {
          "base_uri": "https://localhost:8080/"
        },
        "id": "eGBra-sJXtNf",
        "outputId": "eb05b74c-8772-42c3-9901-6c29cbf27841"
      },
      "execution_count": 66,
      "outputs": [
        {
          "name": "stdout",
          "output_type": "stream",
          "text": [
            "Please give the ID for the feature6295\n"
          ]
        }
      ]
    },
    {
      "cell_type": "code",
      "source": [
        "coor = divmod(n + 1, 89)\n",
        "row = qualifiers[coor[0]]\n",
        "column = qualifiers[coor[1]-1]"
      ],
      "metadata": {
        "id": "KJJzRvUtX9zH"
      },
      "execution_count": 67,
      "outputs": []
    },
    {
      "cell_type": "code",
      "source": [
        "print(row+\"; \"+column)"
      ],
      "metadata": {
        "colab": {
          "base_uri": "https://localhost:8080/"
        },
        "id": "uow1tHexYt-9",
        "outputId": "f9faf9f2-3a32-4753-ddce-3cc3bd6cbdb1"
      },
      "execution_count": 68,
      "outputs": [
        {
          "output_type": "stream",
          "name": "stdout",
          "text": [
            "drug therapy; administration & dosage\n"
          ]
        }
      ]
    }
  ]
}