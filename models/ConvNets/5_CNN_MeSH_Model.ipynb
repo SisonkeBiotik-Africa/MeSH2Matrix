{
  "nbformat": 4,
  "nbformat_minor": 0,
  "metadata": {
    "colab": {
      "provenance": [],
      "collapsed_sections": []
    },
    "kernelspec": {
      "name": "python3",
      "display_name": "Python 3"
    },
    "language_info": {
      "name": "python"
    },
    "accelerator": "GPU"
  },
  "cells": [
    {
      "cell_type": "code",
      "execution_count": null,
      "metadata": {
        "colab": {
          "base_uri": "https://localhost:8080/"
        },
        "id": "RBmRwrDfKQma",
        "outputId": "9b4a0bc8-60aa-41ab-ac8e-a477d28e8ca6"
      },
      "outputs": [
        {
          "output_type": "stream",
          "name": "stdout",
          "text": [
            "Mounted at /content/drive\n"
          ]
        }
      ],
      "source": [
        "from google.colab import drive\n",
        "drive.mount('/content/drive')\n",
        "import os\n",
        "DATA_DIR='/content/drive/MyDrive/Colab Notebooks/mesh2matrix/mesh'\n",
        "#old DATA_DIR='/content/drive/MyDrive/mesh'"
      ]
    },
    {
      "cell_type": "code",
      "source": [
        "os.chdir('/content/drive/MyDrive/Colab Notebooks/mesh2matrix')"
      ],
      "metadata": {
        "id": "p0DZuM5rBfPK"
      },
      "execution_count": null,
      "outputs": []
    },
    {
      "cell_type": "code",
      "source": [
        "#!pip install -r MeSH2Matrix/requirements.txt\n",
        "!pip install livelossplot --quiet"
      ],
      "metadata": {
        "id": "3GDqgPfNWAGz",
        "colab": {
          "base_uri": "https://localhost:8080/"
        },
        "outputId": "1c004ba4-698a-4d16-f414-5229a5a8ac0b"
      },
      "execution_count": null,
      "outputs": [
        {
          "output_type": "stream",
          "name": "stdout",
          "text": [
            "\u001b[?25l\r\u001b[K     |▏                               | 10 kB 15.0 MB/s eta 0:00:01\r\u001b[K     |▍                               | 20 kB 20.6 MB/s eta 0:00:01\r\u001b[K     |▋                               | 30 kB 25.9 MB/s eta 0:00:01\r\u001b[K     |▉                               | 40 kB 29.5 MB/s eta 0:00:01\r\u001b[K     |█                               | 51 kB 32.0 MB/s eta 0:00:01\r\u001b[K     |█▎                              | 61 kB 35.0 MB/s eta 0:00:01\r\u001b[K     |█▌                              | 71 kB 36.1 MB/s eta 0:00:01\r\u001b[K     |█▊                              | 81 kB 37.0 MB/s eta 0:00:01\r\u001b[K     |█▉                              | 92 kB 38.7 MB/s eta 0:00:01\r\u001b[K     |██                              | 102 kB 39.9 MB/s eta 0:00:01\r\u001b[K     |██▎                             | 112 kB 39.9 MB/s eta 0:00:01\r\u001b[K     |██▌                             | 122 kB 39.9 MB/s eta 0:00:01\r\u001b[K     |██▊                             | 133 kB 39.9 MB/s eta 0:00:01\r\u001b[K     |███                             | 143 kB 39.9 MB/s eta 0:00:01\r\u001b[K     |███▏                            | 153 kB 39.9 MB/s eta 0:00:01\r\u001b[K     |███▍                            | 163 kB 39.9 MB/s eta 0:00:01\r\u001b[K     |███▌                            | 174 kB 39.9 MB/s eta 0:00:01\r\u001b[K     |███▊                            | 184 kB 39.9 MB/s eta 0:00:01\r\u001b[K     |████                            | 194 kB 39.9 MB/s eta 0:00:01\r\u001b[K     |████▏                           | 204 kB 39.9 MB/s eta 0:00:01\r\u001b[K     |████▍                           | 215 kB 39.9 MB/s eta 0:00:01\r\u001b[K     |████▋                           | 225 kB 39.9 MB/s eta 0:00:01\r\u001b[K     |████▉                           | 235 kB 39.9 MB/s eta 0:00:01\r\u001b[K     |█████                           | 245 kB 39.9 MB/s eta 0:00:01\r\u001b[K     |█████▎                          | 256 kB 39.9 MB/s eta 0:00:01\r\u001b[K     |█████▍                          | 266 kB 39.9 MB/s eta 0:00:01\r\u001b[K     |█████▋                          | 276 kB 39.9 MB/s eta 0:00:01\r\u001b[K     |█████▉                          | 286 kB 39.9 MB/s eta 0:00:01\r\u001b[K     |██████                          | 296 kB 39.9 MB/s eta 0:00:01\r\u001b[K     |██████▎                         | 307 kB 39.9 MB/s eta 0:00:01\r\u001b[K     |██████▌                         | 317 kB 39.9 MB/s eta 0:00:01\r\u001b[K     |██████▊                         | 327 kB 39.9 MB/s eta 0:00:01\r\u001b[K     |███████                         | 337 kB 39.9 MB/s eta 0:00:01\r\u001b[K     |███████                         | 348 kB 39.9 MB/s eta 0:00:01\r\u001b[K     |███████▎                        | 358 kB 39.9 MB/s eta 0:00:01\r\u001b[K     |███████▌                        | 368 kB 39.9 MB/s eta 0:00:01\r\u001b[K     |███████▊                        | 378 kB 39.9 MB/s eta 0:00:01\r\u001b[K     |████████                        | 389 kB 39.9 MB/s eta 0:00:01\r\u001b[K     |████████▏                       | 399 kB 39.9 MB/s eta 0:00:01\r\u001b[K     |████████▍                       | 409 kB 39.9 MB/s eta 0:00:01\r\u001b[K     |████████▋                       | 419 kB 39.9 MB/s eta 0:00:01\r\u001b[K     |████████▉                       | 430 kB 39.9 MB/s eta 0:00:01\r\u001b[K     |█████████                       | 440 kB 39.9 MB/s eta 0:00:01\r\u001b[K     |█████████▏                      | 450 kB 39.9 MB/s eta 0:00:01\r\u001b[K     |█████████▍                      | 460 kB 39.9 MB/s eta 0:00:01\r\u001b[K     |█████████▋                      | 471 kB 39.9 MB/s eta 0:00:01\r\u001b[K     |█████████▉                      | 481 kB 39.9 MB/s eta 0:00:01\r\u001b[K     |██████████                      | 491 kB 39.9 MB/s eta 0:00:01\r\u001b[K     |██████████▎                     | 501 kB 39.9 MB/s eta 0:00:01\r\u001b[K     |██████████▌                     | 512 kB 39.9 MB/s eta 0:00:01\r\u001b[K     |██████████▋                     | 522 kB 39.9 MB/s eta 0:00:01\r\u001b[K     |██████████▉                     | 532 kB 39.9 MB/s eta 0:00:01\r\u001b[K     |███████████                     | 542 kB 39.9 MB/s eta 0:00:01\r\u001b[K     |███████████▎                    | 552 kB 39.9 MB/s eta 0:00:01\r\u001b[K     |███████████▌                    | 563 kB 39.9 MB/s eta 0:00:01\r\u001b[K     |███████████▊                    | 573 kB 39.9 MB/s eta 0:00:01\r\u001b[K     |████████████                    | 583 kB 39.9 MB/s eta 0:00:01\r\u001b[K     |████████████▏                   | 593 kB 39.9 MB/s eta 0:00:01\r\u001b[K     |████████████▍                   | 604 kB 39.9 MB/s eta 0:00:01\r\u001b[K     |████████████▌                   | 614 kB 39.9 MB/s eta 0:00:01\r\u001b[K     |████████████▊                   | 624 kB 39.9 MB/s eta 0:00:01\r\u001b[K     |█████████████                   | 634 kB 39.9 MB/s eta 0:00:01\r\u001b[K     |█████████████▏                  | 645 kB 39.9 MB/s eta 0:00:01\r\u001b[K     |█████████████▍                  | 655 kB 39.9 MB/s eta 0:00:01\r\u001b[K     |█████████████▋                  | 665 kB 39.9 MB/s eta 0:00:01\r\u001b[K     |█████████████▉                  | 675 kB 39.9 MB/s eta 0:00:01\r\u001b[K     |██████████████                  | 686 kB 39.9 MB/s eta 0:00:01\r\u001b[K     |██████████████▏                 | 696 kB 39.9 MB/s eta 0:00:01\r\u001b[K     |██████████████▍                 | 706 kB 39.9 MB/s eta 0:00:01\r\u001b[K     |██████████████▋                 | 716 kB 39.9 MB/s eta 0:00:01\r\u001b[K     |██████████████▉                 | 727 kB 39.9 MB/s eta 0:00:01\r\u001b[K     |███████████████                 | 737 kB 39.9 MB/s eta 0:00:01\r\u001b[K     |███████████████▎                | 747 kB 39.9 MB/s eta 0:00:01\r\u001b[K     |███████████████▌                | 757 kB 39.9 MB/s eta 0:00:01\r\u001b[K     |███████████████▊                | 768 kB 39.9 MB/s eta 0:00:01\r\u001b[K     |████████████████                | 778 kB 39.9 MB/s eta 0:00:01\r\u001b[K     |████████████████                | 788 kB 39.9 MB/s eta 0:00:01\r\u001b[K     |████████████████▎               | 798 kB 39.9 MB/s eta 0:00:01\r\u001b[K     |████████████████▌               | 808 kB 39.9 MB/s eta 0:00:01\r\u001b[K     |████████████████▊               | 819 kB 39.9 MB/s eta 0:00:01\r\u001b[K     |█████████████████               | 829 kB 39.9 MB/s eta 0:00:01\r\u001b[K     |█████████████████▏              | 839 kB 39.9 MB/s eta 0:00:01\r\u001b[K     |█████████████████▍              | 849 kB 39.9 MB/s eta 0:00:01\r\u001b[K     |█████████████████▋              | 860 kB 39.9 MB/s eta 0:00:01\r\u001b[K     |█████████████████▊              | 870 kB 39.9 MB/s eta 0:00:01\r\u001b[K     |██████████████████              | 880 kB 39.9 MB/s eta 0:00:01\r\u001b[K     |██████████████████▏             | 890 kB 39.9 MB/s eta 0:00:01\r\u001b[K     |██████████████████▍             | 901 kB 39.9 MB/s eta 0:00:01\r\u001b[K     |██████████████████▋             | 911 kB 39.9 MB/s eta 0:00:01\r\u001b[K     |██████████████████▉             | 921 kB 39.9 MB/s eta 0:00:01\r\u001b[K     |███████████████████             | 931 kB 39.9 MB/s eta 0:00:01\r\u001b[K     |███████████████████▎            | 942 kB 39.9 MB/s eta 0:00:01\r\u001b[K     |███████████████████▌            | 952 kB 39.9 MB/s eta 0:00:01\r\u001b[K     |███████████████████▋            | 962 kB 39.9 MB/s eta 0:00:01\r\u001b[K     |███████████████████▉            | 972 kB 39.9 MB/s eta 0:00:01\r\u001b[K     |████████████████████            | 983 kB 39.9 MB/s eta 0:00:01\r\u001b[K     |████████████████████▎           | 993 kB 39.9 MB/s eta 0:00:01\r\u001b[K     |████████████████████▌           | 1.0 MB 39.9 MB/s eta 0:00:01\r\u001b[K     |████████████████████▊           | 1.0 MB 39.9 MB/s eta 0:00:01\r\u001b[K     |█████████████████████           | 1.0 MB 39.9 MB/s eta 0:00:01\r\u001b[K     |█████████████████████▏          | 1.0 MB 39.9 MB/s eta 0:00:01\r\u001b[K     |█████████████████████▎          | 1.0 MB 39.9 MB/s eta 0:00:01\r\u001b[K     |█████████████████████▌          | 1.1 MB 39.9 MB/s eta 0:00:01\r\u001b[K     |█████████████████████▊          | 1.1 MB 39.9 MB/s eta 0:00:01\r\u001b[K     |██████████████████████          | 1.1 MB 39.9 MB/s eta 0:00:01\r\u001b[K     |██████████████████████▏         | 1.1 MB 39.9 MB/s eta 0:00:01\r\u001b[K     |██████████████████████▍         | 1.1 MB 39.9 MB/s eta 0:00:01\r\u001b[K     |██████████████████████▋         | 1.1 MB 39.9 MB/s eta 0:00:01\r\u001b[K     |██████████████████████▉         | 1.1 MB 39.9 MB/s eta 0:00:01\r\u001b[K     |███████████████████████         | 1.1 MB 39.9 MB/s eta 0:00:01\r\u001b[K     |███████████████████████▏        | 1.1 MB 39.9 MB/s eta 0:00:01\r\u001b[K     |███████████████████████▍        | 1.1 MB 39.9 MB/s eta 0:00:01\r\u001b[K     |███████████████████████▋        | 1.2 MB 39.9 MB/s eta 0:00:01\r\u001b[K     |███████████████████████▉        | 1.2 MB 39.9 MB/s eta 0:00:01\r\u001b[K     |████████████████████████        | 1.2 MB 39.9 MB/s eta 0:00:01\r\u001b[K     |████████████████████████▎       | 1.2 MB 39.9 MB/s eta 0:00:01\r\u001b[K     |████████████████████████▌       | 1.2 MB 39.9 MB/s eta 0:00:01\r\u001b[K     |████████████████████████▊       | 1.2 MB 39.9 MB/s eta 0:00:01\r\u001b[K     |████████████████████████▉       | 1.2 MB 39.9 MB/s eta 0:00:01\r\u001b[K     |█████████████████████████       | 1.2 MB 39.9 MB/s eta 0:00:01\r\u001b[K     |█████████████████████████▎      | 1.2 MB 39.9 MB/s eta 0:00:01\r\u001b[K     |█████████████████████████▌      | 1.2 MB 39.9 MB/s eta 0:00:01\r\u001b[K     |█████████████████████████▊      | 1.3 MB 39.9 MB/s eta 0:00:01\r\u001b[K     |██████████████████████████      | 1.3 MB 39.9 MB/s eta 0:00:01\r\u001b[K     |██████████████████████████▏     | 1.3 MB 39.9 MB/s eta 0:00:01\r\u001b[K     |██████████████████████████▍     | 1.3 MB 39.9 MB/s eta 0:00:01\r\u001b[K     |██████████████████████████▌     | 1.3 MB 39.9 MB/s eta 0:00:01\r\u001b[K     |██████████████████████████▊     | 1.3 MB 39.9 MB/s eta 0:00:01\r\u001b[K     |███████████████████████████     | 1.3 MB 39.9 MB/s eta 0:00:01\r\u001b[K     |███████████████████████████▏    | 1.3 MB 39.9 MB/s eta 0:00:01\r\u001b[K     |███████████████████████████▍    | 1.3 MB 39.9 MB/s eta 0:00:01\r\u001b[K     |███████████████████████████▋    | 1.4 MB 39.9 MB/s eta 0:00:01\r\u001b[K     |███████████████████████████▉    | 1.4 MB 39.9 MB/s eta 0:00:01\r\u001b[K     |████████████████████████████    | 1.4 MB 39.9 MB/s eta 0:00:01\r\u001b[K     |████████████████████████████▎   | 1.4 MB 39.9 MB/s eta 0:00:01\r\u001b[K     |████████████████████████████▍   | 1.4 MB 39.9 MB/s eta 0:00:01\r\u001b[K     |████████████████████████████▋   | 1.4 MB 39.9 MB/s eta 0:00:01\r\u001b[K     |████████████████████████████▉   | 1.4 MB 39.9 MB/s eta 0:00:01\r\u001b[K     |█████████████████████████████   | 1.4 MB 39.9 MB/s eta 0:00:01\r\u001b[K     |█████████████████████████████▎  | 1.4 MB 39.9 MB/s eta 0:00:01\r\u001b[K     |█████████████████████████████▌  | 1.4 MB 39.9 MB/s eta 0:00:01\r\u001b[K     |█████████████████████████████▊  | 1.5 MB 39.9 MB/s eta 0:00:01\r\u001b[K     |██████████████████████████████  | 1.5 MB 39.9 MB/s eta 0:00:01\r\u001b[K     |██████████████████████████████  | 1.5 MB 39.9 MB/s eta 0:00:01\r\u001b[K     |██████████████████████████████▎ | 1.5 MB 39.9 MB/s eta 0:00:01\r\u001b[K     |██████████████████████████████▌ | 1.5 MB 39.9 MB/s eta 0:00:01\r\u001b[K     |██████████████████████████████▊ | 1.5 MB 39.9 MB/s eta 0:00:01\r\u001b[K     |███████████████████████████████ | 1.5 MB 39.9 MB/s eta 0:00:01\r\u001b[K     |███████████████████████████████▏| 1.5 MB 39.9 MB/s eta 0:00:01\r\u001b[K     |███████████████████████████████▍| 1.5 MB 39.9 MB/s eta 0:00:01\r\u001b[K     |███████████████████████████████▋| 1.5 MB 39.9 MB/s eta 0:00:01\r\u001b[K     |███████████████████████████████▉| 1.6 MB 39.9 MB/s eta 0:00:01\r\u001b[K     |████████████████████████████████| 1.6 MB 39.9 MB/s eta 0:00:01\r\u001b[K     |████████████████████████████████| 1.6 MB 39.9 MB/s \n",
            "\u001b[?25h"
          ]
        }
      ]
    },
    {
      "cell_type": "code",
      "source": [
        "from google.colab import drive\n",
        "import os\n",
        "import matplotlib.pyplot as plt\n",
        "import pandas as pd\n",
        "import torch\n",
        "import numpy as np\n",
        "from sklearn.model_selection import train_test_split\n",
        "import torchtext\n",
        "from torch.utils.data import Dataset,DataLoader\n",
        "#from torchtext.legacy.data import Field, TabularDataset, BucketIterator, Iterator\n",
        "import torch.nn as nn\n",
        "from torch.nn.utils.rnn import pack_padded_sequence, pad_packed_sequence\n",
        "import torch.optim as optim\n",
        "import torch.nn.functional as F\n",
        "from sklearn.metrics import accuracy_score, classification_report, confusion_matrix,f1_score\n",
        "from livelossplot import PlotLosses\n",
        "from PIL import Image\n",
        "from torchvision import transforms\n",
        "from tqdm import tqdm\n",
        "import json\n",
        "from pathlib import Path\n",
        "import matplotlib\n",
        "\n",
        "device = torch.device('cuda' if True and torch.cuda.is_available() else 'cpu')\n",
        "\n",
        "NUM_CLASSES=5\n",
        "BATCH_SIZE=128"
      ],
      "metadata": {
        "id": "_TBGMHA_KZwy"
      },
      "execution_count": null,
      "outputs": []
    },
    {
      "cell_type": "markdown",
      "source": [
        "MeSH Dataset Class..."
      ],
      "metadata": {
        "id": "idPlJk3ZMzEZ"
      }
    },
    {
      "cell_type": "code",
      "source": [
        "class MESHDataset(Dataset):\n",
        "    def __init__(self,numpy_file,label_file):\n",
        "     \n",
        "      try:\n",
        "        self.data= np.load(numpy_file)\n",
        "        self.labels = np.load(label_file)\n",
        "      except Exception as err:\n",
        "        raise Exception(f'ERROR OPENING FILES: {numpy_file} | {label_file}. See Error below. \\n {err}')  \n",
        "       \n",
        "    def __len__(self):\n",
        "        return self.data.shape[0]\n",
        "    def __getitem__(self, idx):\n",
        "        #Get the element with `idx`\n",
        "        #Output an 89*89 matrix\n",
        "        return np.expand_dims(self.data[idx], axis=0), self.labels[idx]"
      ],
      "metadata": {
        "id": "0b0Ea3PrMwgo"
      },
      "execution_count": null,
      "outputs": []
    },
    {
      "cell_type": "markdown",
      "source": [
        "Baseline Model..."
      ],
      "metadata": {
        "id": "bHTH6wwuMxCj"
      }
    },
    {
      "cell_type": "code",
      "source": [
        "class InceptionModel(nn.Module):\n",
        "\n",
        "    def __init__(self, matrix_size=89):\n",
        "      #Idea\n",
        "      \"\"\"\n",
        "      ConvNet -> ConvNet -> Flatten ->  Dense => Class \n",
        "      \"\"\"\n",
        "      super(InceptionModel, self).__init__()\n",
        "      self.layer1 = nn.Sequential(\n",
        "          nn.Conv2d(1, 128, kernel_size=3, stride=1),\n",
        "          nn.BatchNorm2d(128),\n",
        "          nn.ReLU(),\n",
        "          nn.MaxPool2d(kernel_size=2, stride=2),\n",
        "          nn.Conv2d(128,64, kernel_size=3, stride=1),\n",
        "          nn.BatchNorm2d(64),\n",
        "          nn.ReLU(),\n",
        "          nn.MaxPool2d(kernel_size=2, stride=2),\n",
        "          nn.Conv2d(64,32, kernel_size=3, stride=1),\n",
        "          nn.BatchNorm2d(32),\n",
        "          nn.ReLU(),\n",
        "          nn.MaxPool2d(kernel_size=2, stride=2)\n",
        "          )\n",
        "      self.layer2 = nn.Sequential(\n",
        "          nn.Conv2d(32, 16, kernel_size=3, stride=1),\n",
        "          nn.BatchNorm2d(16),\n",
        "          nn.ReLU(),\n",
        "          nn.MaxPool2d(kernel_size=2, stride=2)\n",
        "        )\n",
        "      \n",
        "      self.drop_out = nn.Dropout()\n",
        "      self.fc = nn.Sequential(\n",
        "          #nn.Linear(12800, 5000),\n",
        "          #nn.ReLU(),\n",
        "          #nn.Linear(5000, 1000),\n",
        "          #nn.ReLU(),\n",
        "          nn.Linear(2592,1024),\n",
        "          nn.ReLU(),\n",
        "          nn.Linear(1024,500),\n",
        "          nn.ReLU(),\n",
        "          nn.Linear(500,NUM_CLASSES)\n",
        "      )\n",
        "    def forward(self, x):\n",
        "\n",
        "        #Expecting `x` to be an 89*89 matrix. \n",
        "        #print(f'X original shape: {x.shape}')\n",
        "        x=self.layer1(x)\n",
        "        #x = self.layer2(x)\n",
        "        x = x.reshape(x.size(0), -1)\n",
        "        #print(f'Flattened X has shape: {x.shape}')\n",
        "        x=self.drop_out(x)\n",
        "        x=self.fc(x)\n",
        "        #out = F.log_softmax(x) #Don't use softmax here since we use torch.nn.CrossEntropyLoss. \n",
        "        return x"
      ],
      "metadata": {
        "id": "QUZY6XrPKtnF"
      },
      "execution_count": null,
      "outputs": []
    },
    {
      "cell_type": "markdown",
      "source": [
        "Creating the dataloaders..."
      ],
      "metadata": {
        "id": "yyl1ZGauMx2D"
      }
    },
    {
      "cell_type": "code",
      "source": [
        "train_dataset = MESHDataset(os.path.join(DATA_DIR,'output/train.npy'),os.path.join(DATA_DIR,'output/grouped_train_labels.npy'))\n",
        "dev_dataset = MESHDataset(os.path.join(DATA_DIR,'output/dev.npy'),os.path.join(DATA_DIR,'output/grouped_dev_labels.npy'))\n",
        "test_dataset = MESHDataset(os.path.join(DATA_DIR,'output/test.npy'),os.path.join(DATA_DIR,'output/grouped_test_labels.npy'))\n",
        "\n",
        "\n",
        "train_dataloader = DataLoader(train_dataset, batch_size=BATCH_SIZE, shuffle=True)\n",
        "dev_dataloader = DataLoader(dev_dataset, batch_size=BATCH_SIZE, shuffle=True)\n",
        "test_dataloader = DataLoader(test_dataset, batch_size=BATCH_SIZE, shuffle=False)"
      ],
      "metadata": {
        "id": "9L6bBWrQQ7ZY"
      },
      "execution_count": null,
      "outputs": []
    },
    {
      "cell_type": "markdown",
      "source": [
        "Creating the model...\n"
      ],
      "metadata": {
        "id": "4csOitTpM3_G"
      }
    },
    {
      "cell_type": "code",
      "source": [
        "model = InceptionModel().to(device)\n",
        "model"
      ],
      "metadata": {
        "colab": {
          "base_uri": "https://localhost:8080/"
        },
        "id": "c_SMJMdyM5ay",
        "outputId": "2fd79dfc-52b5-4b8b-9165-4b9889a0e5b0"
      },
      "execution_count": null,
      "outputs": [
        {
          "output_type": "execute_result",
          "data": {
            "text/plain": [
              "InceptionModel(\n",
              "  (layer1): Sequential(\n",
              "    (0): Conv2d(1, 128, kernel_size=(3, 3), stride=(1, 1))\n",
              "    (1): BatchNorm2d(128, eps=1e-05, momentum=0.1, affine=True, track_running_stats=True)\n",
              "    (2): ReLU()\n",
              "    (3): MaxPool2d(kernel_size=2, stride=2, padding=0, dilation=1, ceil_mode=False)\n",
              "    (4): Conv2d(128, 64, kernel_size=(3, 3), stride=(1, 1))\n",
              "    (5): BatchNorm2d(64, eps=1e-05, momentum=0.1, affine=True, track_running_stats=True)\n",
              "    (6): ReLU()\n",
              "    (7): MaxPool2d(kernel_size=2, stride=2, padding=0, dilation=1, ceil_mode=False)\n",
              "    (8): Conv2d(64, 32, kernel_size=(3, 3), stride=(1, 1))\n",
              "    (9): BatchNorm2d(32, eps=1e-05, momentum=0.1, affine=True, track_running_stats=True)\n",
              "    (10): ReLU()\n",
              "    (11): MaxPool2d(kernel_size=2, stride=2, padding=0, dilation=1, ceil_mode=False)\n",
              "  )\n",
              "  (layer2): Sequential(\n",
              "    (0): Conv2d(32, 16, kernel_size=(3, 3), stride=(1, 1))\n",
              "    (1): BatchNorm2d(16, eps=1e-05, momentum=0.1, affine=True, track_running_stats=True)\n",
              "    (2): ReLU()\n",
              "    (3): MaxPool2d(kernel_size=2, stride=2, padding=0, dilation=1, ceil_mode=False)\n",
              "  )\n",
              "  (drop_out): Dropout(p=0.5, inplace=False)\n",
              "  (fc): Sequential(\n",
              "    (0): Linear(in_features=2592, out_features=1024, bias=True)\n",
              "    (1): ReLU()\n",
              "    (2): Linear(in_features=1024, out_features=500, bias=True)\n",
              "    (3): ReLU()\n",
              "    (4): Linear(in_features=500, out_features=5, bias=True)\n",
              "  )\n",
              ")"
            ]
          },
          "metadata": {},
          "execution_count": 8
        }
      ]
    },
    {
      "cell_type": "markdown",
      "source": [
        "Training Configuration..."
      ],
      "metadata": {
        "id": "vExAV-0PM8rX"
      }
    },
    {
      "cell_type": "code",
      "source": [
        "import sys\n",
        "def compute_accuracy(pred,target):  \n",
        "  acc = (target == pred.argmax(dim=1)).float().detach().numpy()\n",
        "  return float(100 * acc.sum() / len(acc))\n"
      ],
      "metadata": {
        "id": "FUkMvhaOWZTj"
      },
      "execution_count": null,
      "outputs": []
    },
    {
      "cell_type": "code",
      "source": [
        "#Define criterion: Categorical cross entropy\n",
        "criterion = nn.CrossEntropyLoss()\n",
        "#Define optimizer. For now, Adam\n",
        "optimizer = optim.Adam(model.parameters(), lr=1e-5)\n",
        "\n",
        "PRINT_FREQ = 5\n",
        "DO_VALIDATION_STEP=30\n",
        "NUM_EPOCHS=1500\n",
        "PATIENCE=50\n",
        "\n",
        "PATH=os.path.join(DATA_DIR,'output/best_model_cnn_best_128_5classes')\n",
        "\n",
        "if os.path.isfile(PATH):\n",
        "  model.load_state_dict(torch.load(PATH))\n",
        "\n",
        "best_acc = 0\n",
        "\n",
        "liveloss = PlotLosses()\n",
        "patience=0\n",
        "\n",
        "\n",
        "for epoch in range(NUM_EPOCHS):\n",
        "  for i,(features, label) in enumerate(train_dataloader):\n",
        "    features, label = features.to(device), label.to(device)\n",
        "    optimizer.zero_grad()\n",
        "    pred = model(features.float())\n",
        "    loss = criterion(pred,label)\n",
        "\n",
        "   \n",
        "    \n",
        "    loss.backward()\n",
        "    optimizer.step()\n",
        "\n",
        "    if i%DO_VALIDATION_STEP==0:\n",
        "      #Do validation\n",
        "      model.eval()\n",
        "      val_losses=[]\n",
        "      val_acc_list=[]\n",
        "      for val_features, val_label in dev_dataloader:\n",
        "         val_features, val_label = val_features.to(device), val_label.to(device)\n",
        "         val_pred = model(val_features.float())\n",
        "         val_loss = criterion(val_pred,val_label)\n",
        "         val_losses.append(val_loss.item())\n",
        "         val_acc_list.append(compute_accuracy(val_pred.cpu(),val_label.cpu()))\n",
        "\n",
        "      val_loss_ = np.mean(val_losses) \n",
        "      val_acc = np.mean(val_acc_list)\n",
        "      if val_acc> best_acc:\n",
        "        best_acc=val_acc\n",
        "        patience=0\n",
        "        #Save model weights\n",
        "        torch.save(model.state_dict(), PATH)\n",
        "      else:\n",
        "        patience+=1\n",
        "      if patience >= PATIENCE:\n",
        "        print('Ending due to early stopping...')\n",
        "        break    \n",
        "      \n",
        "      logs={'loss':loss.item(),'val_loss':val_loss_,'val_accuracy':val_acc}\n",
        "      liveloss.update(logs)\n",
        "      liveloss.send()  \n",
        "      model.train()  \n"
      ],
      "metadata": {
        "colab": {
          "base_uri": "https://localhost:8080/",
          "height": 672
        },
        "id": "EIj8vMcrM-3i",
        "outputId": "0c28f187-eb6c-4147-eb06-02a27abb7483"
      },
      "execution_count": null,
      "outputs": [
        {
          "output_type": "display_data",
          "data": {
            "image/png": "[encoded data removed]",
            "text/plain": [
              "<Figure size 864x576 with 2 Axes>"
            ]
          },
          "metadata": {
            "needs_background": "light"
          }
        },
        {
          "output_type": "stream",
          "name": "stdout",
          "text": [
            "accuracy\n",
            "\tval_accuracy     \t (min:   36.188, max:   82.389, cur:   81.944)\n",
            "Loss\n",
            "\ttraining         \t (min:    0.291, max:    1.625, cur:    0.389)\n",
            "\tvalidation       \t (min:    0.510, max:    1.602, cur:    0.514)\n"
          ]
        }
      ]
    },
    {
      "cell_type": "markdown",
      "source": [
        "Compute test metrics... "
      ],
      "metadata": {
        "id": "6Dft_hV2rGWG"
      }
    },
    {
      "cell_type": "code",
      "source": [
        "from sklearn.metrics import accuracy_score\n",
        "def compute_accuracy(pred, target):\n",
        "  return target.detach().numpy(), pred.argmax(-1).detach().numpy()"
      ],
      "metadata": {
        "id": "Jjz6mz5m6nix"
      },
      "execution_count": null,
      "outputs": []
    },
    {
      "cell_type": "code",
      "source": [
        "\n",
        "PATH=os.path.join(DATA_DIR,'output/best_model_cnn_best_128_5classes')\n",
        "\n",
        "if os.path.isfile(PATH):\n",
        "  model.load_state_dict(torch.load(PATH, map_location='cpu'))\n"
      ],
      "metadata": {
        "id": "tIiWx4mKdBem"
      },
      "execution_count": null,
      "outputs": []
    },
    {
      "cell_type": "code",
      "source": [
        "model.eval()\n",
        "\n",
        "labels, preds = [], []\n",
        "for test_features, test_label in test_dataloader:\n",
        "  # print(test_features.size())\n",
        "  test_features, test_label = test_features.to(device), test_label.to(device)\n",
        "  test_pred = model(test_features.float())\n",
        "  true, predictions = compute_accuracy(test_pred.cpu(),test_label.cpu())\n",
        "  labels += true.tolist()\n",
        "  preds += predictions.tolist()\n",
        "print(f'Best CNN Model Accuracy with 5 classes:{accuracy_score(labels, preds)}')\n",
        "print(\"Best CNN Model Weighted F1-Score with 5 classes: {}\".format(f1_score(labels, preds, average='weighted')))"
      ],
      "metadata": {
        "id": "3TCbQzZyrFDg",
        "colab": {
          "base_uri": "https://localhost:8080/"
        },
        "outputId": "6bc14bd5-37d9-4a40-cba1-0a101f55f636"
      },
      "execution_count": null,
      "outputs": [
        {
          "output_type": "stream",
          "name": "stdout",
          "text": [
            "Best CNN Model Accuracy with 5 classes:0.8277383258015925\n",
            "Best CNN Model Weighted F1-Score with 5 classes: 0.826093641861537\n"
          ]
        }
      ]
    },
    {
      "cell_type": "markdown",
      "source": [
        "# Confusion Matrix"
      ],
      "metadata": {
        "id": "9MossHpLGjw0"
      }
    },
    {
      "cell_type": "code",
      "source": [
        "confusion= confusion_matrix(labels, preds)\n",
        "print(confusion)"
      ],
      "metadata": {
        "colab": {
          "base_uri": "https://localhost:8080/"
        },
        "id": "-_orSg5hCic0",
        "outputId": "def4aa2f-25b4-49a2-e37e-d6befb16f763"
      },
      "execution_count": null,
      "outputs": [
        {
          "output_type": "stream",
          "name": "stdout",
          "text": [
            "[[1869    7   14  125  230]\n",
            " [  16   36    0    6   66]\n",
            " [  93    0 1716   18   64]\n",
            " [ 225    5    5 2822   80]\n",
            " [ 366   19   98  164 1250]]\n"
          ]
        }
      ]
    },
    {
      "cell_type": "code",
      "source": [
        "import seaborn as sns\n",
        "plt.figure(figsize=(10,8))\n",
        "ax = sns.heatmap(confusion, annot=True, cmap='Blues', fmt='d')\n",
        "ax.set_title('Confusion Matrix with labels\\n\\n');\n",
        "ax.set_xlabel('\\nPredicted Values')\n",
        "ax.set_ylabel('Actual Values ')\n",
        "## Ticket labels - List must be in alphabetical order\n",
        "ax.xaxis.set_ticklabels([0,1,2,3,4])\n",
        "ax.yaxis.set_ticklabels([0,1,2,3,4])\n",
        "## Save and display the visualization of the Confusion Matrix.\n",
        "plt.savefig('/content/drive/MyDrive/Colab Notebooks/mesh2matrix/MeSH2Matrix/output/CNN5.png')\n",
        "plt.show()"
      ],
      "metadata": {
        "colab": {
          "base_uri": "https://localhost:8080/",
          "height": 554
        },
        "id": "Ng2JVdVtGowG",
        "outputId": "18148af7-43a5-4270-c7df-710c351718cc"
      },
      "execution_count": null,
      "outputs": [
        {
          "output_type": "display_data",
          "data": {
            "text/plain": [
              "<Figure size 720x576 with 2 Axes>"
            ],
            "image/png": "[encoded data removed]"
          },
          "metadata": {
            "needs_background": "light"
          }
        }
      ]
    },
    {
      "cell_type": "code",
      "source": [
        "data = pd.DataFrame(confusion, index=[0,1,2,3,4], columns=[0,1,2,3,4])\n",
        "data.head()"
      ],
      "metadata": {
        "colab": {
          "base_uri": "https://localhost:8080/",
          "height": 206
        },
        "id": "66U3ciPSG5Wo",
        "outputId": "1e8c9faf-724f-47cd-be23-fa0995cd9ea2"
      },
      "execution_count": null,
      "outputs": [
        {
          "output_type": "execute_result",
          "data": {
            "text/plain": [
              "      0   1     2     3     4\n",
              "0  1869   7    14   125   230\n",
              "1    16  36     0     6    66\n",
              "2    93   0  1716    18    64\n",
              "3   225   5     5  2822    80\n",
              "4   366  19    98   164  1250"
            ],
            "text/html": [
              "\n",
              "  <div id=\"df-3bd1236b-2690-469e-83b1-e7f9d3c2ff89\">\n",
              "    <div class=\"colab-df-container\">\n",
              "      <div>\n",
              "<style scoped>\n",
              "    .dataframe tbody tr th:only-of-type {\n",
              "        vertical-align: middle;\n",
              "    }\n",
              "\n",
              "    .dataframe tbody tr th {\n",
              "        vertical-align: top;\n",
              "    }\n",
              "\n",
              "    .dataframe thead th {\n",
              "        text-align: right;\n",
              "    }\n",
              "</style>\n",
              "<table border=\"1\" class=\"dataframe\">\n",
              "  <thead>\n",
              "    <tr style=\"text-align: right;\">\n",
              "      <th></th>\n",
              "      <th>0</th>\n",
              "      <th>1</th>\n",
              "      <th>2</th>\n",
              "      <th>3</th>\n",
              "      <th>4</th>\n",
              "    </tr>\n",
              "  </thead>\n",
              "  <tbody>\n",
              "    <tr>\n",
              "      <th>0</th>\n",
              "      <td>1869</td>\n",
              "      <td>7</td>\n",
              "      <td>14</td>\n",
              "      <td>125</td>\n",
              "      <td>230</td>\n",
              "    </tr>\n",
              "    <tr>\n",
              "      <th>1</th>\n",
              "      <td>16</td>\n",
              "      <td>36</td>\n",
              "      <td>0</td>\n",
              "      <td>6</td>\n",
              "      <td>66</td>\n",
              "    </tr>\n",
              "    <tr>\n",
              "      <th>2</th>\n",
              "      <td>93</td>\n",
              "      <td>0</td>\n",
              "      <td>1716</td>\n",
              "      <td>18</td>\n",
              "      <td>64</td>\n",
              "    </tr>\n",
              "    <tr>\n",
              "      <th>3</th>\n",
              "      <td>225</td>\n",
              "      <td>5</td>\n",
              "      <td>5</td>\n",
              "      <td>2822</td>\n",
              "      <td>80</td>\n",
              "    </tr>\n",
              "    <tr>\n",
              "      <th>4</th>\n",
              "      <td>366</td>\n",
              "      <td>19</td>\n",
              "      <td>98</td>\n",
              "      <td>164</td>\n",
              "      <td>1250</td>\n",
              "    </tr>\n",
              "  </tbody>\n",
              "</table>\n",
              "</div>\n",
              "      <button class=\"colab-df-convert\" onclick=\"convertToInteractive('df-3bd1236b-2690-469e-83b1-e7f9d3c2ff89')\"\n",
              "              title=\"Convert this dataframe to an interactive table.\"\n",
              "              style=\"display:none;\">\n",
              "        \n",
              "  <svg xmlns=\"http://www.w3.org/2000/svg\" height=\"24px\"viewBox=\"0 0 24 24\"\n",
              "       width=\"24px\">\n",
              "    <path d=\"M0 0h24v24H0V0z\" fill=\"none\"/>\n",
              "    <path d=\"M18.56 5.44l.94 2.06.94-2.06 2.06-.94-2.06-.94-.94-2.06-.94 2.06-2.06.94zm-11 1L8.5 8.5l.94-2.06 2.06-.94-2.06-.94L8.5 2.5l-.94 2.06-2.06.94zm10 10l.94 2.06.94-2.06 2.06-.94-2.06-.94-.94-2.06-.94 2.06-2.06.94z\"/><path d=\"M17.41 7.96l-1.37-1.37c-.4-.4-.92-.59-1.43-.59-.52 0-1.04.2-1.43.59L10.3 9.45l-7.72 7.72c-.78.78-.78 2.05 0 2.83L4 21.41c.39.39.9.59 1.41.59.51 0 1.02-.2 1.41-.59l7.78-7.78 2.81-2.81c.8-.78.8-2.07 0-2.86zM5.41 20L4 18.59l7.72-7.72 1.47 1.35L5.41 20z\"/>\n",
              "  </svg>\n",
              "      </button>\n",
              "      \n",
              "  <style>\n",
              "    .colab-df-container {\n",
              "      display:flex;\n",
              "      flex-wrap:wrap;\n",
              "      gap: 12px;\n",
              "    }\n",
              "\n",
              "    .colab-df-convert {\n",
              "      background-color: #E8F0FE;\n",
              "      border: none;\n",
              "      border-radius: 50%;\n",
              "      cursor: pointer;\n",
              "      display: none;\n",
              "      fill: #1967D2;\n",
              "      height: 32px;\n",
              "      padding: 0 0 0 0;\n",
              "      width: 32px;\n",
              "    }\n",
              "\n",
              "    .colab-df-convert:hover {\n",
              "      background-color: #E2EBFA;\n",
              "      box-shadow: 0px 1px 2px rgba(60, 64, 67, 0.3), 0px 1px 3px 1px rgba(60, 64, 67, 0.15);\n",
              "      fill: #174EA6;\n",
              "    }\n",
              "\n",
              "    [theme=dark] .colab-df-convert {\n",
              "      background-color: #3B4455;\n",
              "      fill: #D2E3FC;\n",
              "    }\n",
              "\n",
              "    [theme=dark] .colab-df-convert:hover {\n",
              "      background-color: #434B5C;\n",
              "      box-shadow: 0px 1px 3px 1px rgba(0, 0, 0, 0.15);\n",
              "      filter: drop-shadow(0px 1px 2px rgba(0, 0, 0, 0.3));\n",
              "      fill: #FFFFFF;\n",
              "    }\n",
              "  </style>\n",
              "\n",
              "      <script>\n",
              "        const buttonEl =\n",
              "          document.querySelector('#df-3bd1236b-2690-469e-83b1-e7f9d3c2ff89 button.colab-df-convert');\n",
              "        buttonEl.style.display =\n",
              "          google.colab.kernel.accessAllowed ? 'block' : 'none';\n",
              "\n",
              "        async function convertToInteractive(key) {\n",
              "          const element = document.querySelector('#df-3bd1236b-2690-469e-83b1-e7f9d3c2ff89');\n",
              "          const dataTable =\n",
              "            await google.colab.kernel.invokeFunction('convertToInteractive',\n",
              "                                                     [key], {});\n",
              "          if (!dataTable) return;\n",
              "\n",
              "          const docLinkHtml = 'Like what you see? Visit the ' +\n",
              "            '<a target=\"_blank\" href=https://colab.research.google.com/notebooks/data_table.ipynb>data table notebook</a>'\n",
              "            + ' to learn more about interactive tables.';\n",
              "          element.innerHTML = '';\n",
              "          dataTable['output_type'] = 'display_data';\n",
              "          await google.colab.output.renderOutput(dataTable, element);\n",
              "          const docLink = document.createElement('div');\n",
              "          docLink.innerHTML = docLinkHtml;\n",
              "          element.appendChild(docLink);\n",
              "        }\n",
              "      </script>\n",
              "    </div>\n",
              "  </div>\n",
              "  "
            ]
          },
          "metadata": {},
          "execution_count": 13
        }
      ]
    },
    {
      "cell_type": "code",
      "source": [
        "data.to_csv('/content/drive/MyDrive/Colab Notebooks/mesh2matrix/MeSH2Matrix/output/CNN5.csv')"
      ],
      "metadata": {
        "id": "K-zoWS3LJtSd"
      },
      "execution_count": null,
      "outputs": []
    },
    {
      "cell_type": "markdown",
      "source": [
        "# Feature Analysis with Integrated Gradient"
      ],
      "metadata": {
        "id": "piERd5vmQikQ"
      }
    },
    {
      "cell_type": "code",
      "source": [
        "# defining the functions\n",
        "\n",
        "def move_to_device(batch):\n",
        "    if torch.cuda.is_available():\n",
        "        batch = batch.to(\"cuda\")\n",
        "    return batch\n",
        "\n",
        "\n",
        "def compute_integrated_gradient(batch_x, batch_blank, model, idx):\n",
        "    mean_grad = 0\n",
        "    n = 100\n",
        "\n",
        "    for i in range(1, n + 1):\n",
        "        x = batch_blank + i / n * (batch_x - batch_blank)\n",
        "        x.requires_grad = True\n",
        "        y = model(x)[0, idx]\n",
        "        (grad,) = torch.autograd.grad(y, x)\n",
        "        mean_grad += grad / n\n",
        "\n",
        "    integrated_gradients = (batch_x - batch_blank) * mean_grad\n",
        "\n",
        "    return integrated_gradients\n",
        "\n",
        "\n",
        "def plot_images(\n",
        "    images,\n",
        "    titles,\n",
        "    output_path,\n",
        "):\n",
        "    fig, axs = plt.subplots(1, len(images))\n",
        "\n",
        "    fig.set_figheight(10)\n",
        "    fig.set_figwidth(16)\n",
        "\n",
        "    for i, (title, img) in enumerate(zip(titles, images)):\n",
        "        axs[i].imshow(img, cmap=matplotlib.cm.gray)\n",
        "        axs[i].set_title(title)\n",
        "\n",
        "    fig.tight_layout()\n",
        "    plt.savefig(output_path)"
      ],
      "metadata": {
        "id": "pYQEj1JGPR3l"
      },
      "execution_count": null,
      "outputs": []
    },
    {
      "cell_type": "markdown",
      "source": [
        "# # Performing IG for 1 sample set."
      ],
      "metadata": {
        "id": "1rCjs8Kxj0NI"
      }
    },
    {
      "cell_type": "code",
      "source": [
        "len(test_dataset)"
      ],
      "metadata": {
        "colab": {
          "base_uri": "https://localhost:8080/"
        },
        "id": "psIQxCLhCVrN",
        "outputId": "a9e07c01-11e6-4fb0-f375-c983446d567e"
      },
      "execution_count": null,
      "outputs": [
        {
          "output_type": "execute_result",
          "data": {
            "text/plain": [
              "9294"
            ]
          },
          "metadata": {},
          "execution_count": 9
        }
      ]
    },
    {
      "cell_type": "code",
      "source": [
        "for  idx, a in enumerate(test_dataset):\n",
        "    x, y_idx = a[0], a[1]"
      ],
      "metadata": {
        "id": "56_PeHeJJ_zG"
      },
      "execution_count": null,
      "outputs": []
    },
    {
      "cell_type": "code",
      "source": [
        "for i , (test_features, test_label) in enumerate(test_dataloader):\n",
        "    if test_label[i] == 1:\n",
        "        x, y_idx = test_features[i], test_label[i]\n",
        "        break"
      ],
      "metadata": {
        "id": "y0LKnjhQQjVj"
      },
      "execution_count": null,
      "outputs": []
    },
    {
      "cell_type": "code",
      "source": [
        "x.shape"
      ],
      "metadata": {
        "colab": {
          "base_uri": "https://localhost:8080/"
        },
        "id": "9kV9c7QnIqQG",
        "outputId": "ff20732c-2c1d-4665-971e-001f7548e8d3"
      },
      "execution_count": null,
      "outputs": [
        {
          "output_type": "execute_result",
          "data": {
            "text/plain": [
              "torch.Size([1, 89, 89])"
            ]
          },
          "metadata": {},
          "execution_count": 14
        }
      ]
    },
    {
      "cell_type": "code",
      "source": [
        "# Read images\n",
        "input_image_x = x\n",
        "input_image_blank = Image.new(\"L\", (89,89))\n",
        "\n",
        "input_image_blank = transforms.ToTensor()(input_image_blank)\n",
        "\n",
        "# Preprocess inputs\n",
        "input_tensor_x = torch.from_numpy(input_image_x)\n",
        "batch_x = input_tensor_x.unsqueeze(0)\n",
        "\n",
        "input_tensor_blank = input_image_blank\n",
        "batch_blank = input_tensor_blank.unsqueeze(0)\n",
        "\n",
        "batch_x = move_to_device(batch_x)\n",
        "batch_blank = move_to_device(batch_blank)\n",
        "\n",
        "# Integrated gradient computation\n",
        "integrated_gradients = compute_integrated_gradient(batch_x.float(), batch_blank.float(), model, y_idx)\n",
        "\n",
        "resized_batch_x = torch.from_numpy(input_image_x)\n",
        "\n",
        "\n",
        "# Change to channel last\n",
        "integrated_gradients = integrated_gradients.permute(0, 1, 2)\n",
        "batch_x =batch_x.permute(0, 1, 2)\n",
        "resized_batch_x = resized_batch_x.permute(0, 1, 2)\n",
        "\n",
        "# Squeeze + move to cpu\n",
        "\n",
        "np_integrated_gradients = integrated_gradients[0, :, :].cpu().data.numpy()\n",
        "\n",
        "resized_x = resized_batch_x[0, :, :].cpu().data.numpy()\n",
        "\n",
        "np_integrated_gradients = np.fabs(np_integrated_gradients)\n",
        "\n",
        "# normalize amplitudes\n",
        "\n",
        "np_integrated_gradients = np_integrated_gradients / np.max(np_integrated_gradients)"
      ],
      "metadata": {
        "id": "K_ifcNGNPR0x"
      },
      "execution_count": null,
      "outputs": []
    },
    {
      "cell_type": "code",
      "source": [
        "# Overlay integrated gradient with image\n",
        "images = [resized_x, np_integrated_gradients]\n",
        "titles = [\"The Data as an Image 1\", \"Integrated Gradient 1\"]\n",
        "plot_images(images, titles, \"1\" + \"cat.png\".split(\"/\")[-1])"
      ],
      "metadata": {
        "colab": {
          "base_uri": "https://localhost:8080/",
          "height": 604
        },
        "id": "RTIpg5HkR8ZD",
        "outputId": "e4bb19ed-5a3a-47be-fed8-4599c49286ef"
      },
      "execution_count": null,
      "outputs": [
        {
          "output_type": "display_data",
          "data": {
            "text/plain": [
              "<Figure size 1152x720 with 2 Axes>"
            ],
            "image/png": "[encoded data removed]"
          },
          "metadata": {
            "needs_background": "light"
          }
        }
      ]
    },
    {
      "cell_type": "markdown",
      "source": [
        "# # Performing IG for 8080 samples"
      ],
      "metadata": {
        "id": "7K9D_vOokUw1"
      }
    },
    {
      "cell_type": "code",
      "source": [
        "maxdf = pd.DataFrame()\n",
        "\n",
        "for  idx, a in enumerate(test_dataset):\n",
        "    if idx > 8080:\n",
        "        print ('done')\n",
        "        break\n",
        "    x, y_idx = a[0], a[1]\n",
        "\n",
        "\n",
        "    # Read images\n",
        "    input_image_x = x\n",
        "    input_image_blank = Image.new(\"L\", (89,89))\n",
        "    input_image_blank = transforms.ToTensor()(input_image_blank)\n",
        "\n",
        "    # Preprocess inputs\n",
        "    input_tensor_x = torch.from_numpy(input_image_x)\n",
        "    batch_x = input_tensor_x.unsqueeze(0)\n",
        "\n",
        "    input_tensor_blank = input_image_blank\n",
        "    batch_blank = input_tensor_blank.unsqueeze(0)\n",
        "\n",
        "    batch_x = move_to_device(batch_x)\n",
        "    batch_blank = move_to_device(batch_blank)\n",
        "\n",
        "    # Integrated gradient computation\n",
        "\n",
        "    integrated_gradients = compute_integrated_gradient(batch_x.float(), batch_blank.float(), model, y_idx)  \n",
        "    integrated_gradient = integrated_gradients.squeeze().cpu().data.numpy().reshape(1, -1)\n",
        "\n",
        "    #writing to df\n",
        "    minidf = pd.DataFrame({'data_id':idx, 'features':list(range(len(integrated_gradient[0]))), 'int_gra':integrated_gradient[0], 'label': y_idx})\n",
        "    maxdf = pd.concat([maxdf, minidf])\n",
        "    \n",
        "\n",
        "maxdf.to_csv('int_g_df_CNN.csv', index=False)"
      ],
      "metadata": {
        "id": "XYjnBjtXAkZj",
        "colab": {
          "base_uri": "https://localhost:8080/"
        },
        "outputId": "c6711bd9-1bc7-41e5-ef74-656d01315b6f"
      },
      "execution_count": null,
      "outputs": [
        {
          "output_type": "stream",
          "name": "stdout",
          "text": [
            "done\n"
          ]
        }
      ]
    },
    {
      "cell_type": "code",
      "source": [
        "maxdf"
      ],
      "metadata": {
        "colab": {
          "base_uri": "https://localhost:8080/",
          "height": 424
        },
        "id": "LTmoTb-9NKhf",
        "outputId": "8bedeb4b-da11-4553-9c17-8ff71d009cdc"
      },
      "execution_count": null,
      "outputs": [
        {
          "output_type": "execute_result",
          "data": {
            "text/plain": [
              "      data_id  features  int_gra  label\n",
              "0           0         0      0.0      3\n",
              "1           0         1      0.0      3\n",
              "2           0         2      0.0      3\n",
              "3           0         3      0.0      3\n",
              "4           0         4     -0.0      3\n",
              "...       ...       ...      ...    ...\n",
              "7916        0      7916      0.0      3\n",
              "7917        0      7917      0.0      3\n",
              "7918        0      7918      0.0      3\n",
              "7919        0      7919      0.0      3\n",
              "7920        0      7920      0.0      3\n",
              "\n",
              "[7921 rows x 4 columns]"
            ],
            "text/html": [
              "\n",
              "  <div id=\"df-323e9e8e-3e08-4212-9ffc-a482b24b99ec\">\n",
              "    <div class=\"colab-df-container\">\n",
              "      <div>\n",
              "<style scoped>\n",
              "    .dataframe tbody tr th:only-of-type {\n",
              "        vertical-align: middle;\n",
              "    }\n",
              "\n",
              "    .dataframe tbody tr th {\n",
              "        vertical-align: top;\n",
              "    }\n",
              "\n",
              "    .dataframe thead th {\n",
              "        text-align: right;\n",
              "    }\n",
              "</style>\n",
              "<table border=\"1\" class=\"dataframe\">\n",
              "  <thead>\n",
              "    <tr style=\"text-align: right;\">\n",
              "      <th></th>\n",
              "      <th>data_id</th>\n",
              "      <th>features</th>\n",
              "      <th>int_gra</th>\n",
              "      <th>label</th>\n",
              "    </tr>\n",
              "  </thead>\n",
              "  <tbody>\n",
              "    <tr>\n",
              "      <th>0</th>\n",
              "      <td>0</td>\n",
              "      <td>0</td>\n",
              "      <td>0.0</td>\n",
              "      <td>3</td>\n",
              "    </tr>\n",
              "    <tr>\n",
              "      <th>1</th>\n",
              "      <td>0</td>\n",
              "      <td>1</td>\n",
              "      <td>0.0</td>\n",
              "      <td>3</td>\n",
              "    </tr>\n",
              "    <tr>\n",
              "      <th>2</th>\n",
              "      <td>0</td>\n",
              "      <td>2</td>\n",
              "      <td>0.0</td>\n",
              "      <td>3</td>\n",
              "    </tr>\n",
              "    <tr>\n",
              "      <th>3</th>\n",
              "      <td>0</td>\n",
              "      <td>3</td>\n",
              "      <td>0.0</td>\n",
              "      <td>3</td>\n",
              "    </tr>\n",
              "    <tr>\n",
              "      <th>4</th>\n",
              "      <td>0</td>\n",
              "      <td>4</td>\n",
              "      <td>-0.0</td>\n",
              "      <td>3</td>\n",
              "    </tr>\n",
              "    <tr>\n",
              "      <th>...</th>\n",
              "      <td>...</td>\n",
              "      <td>...</td>\n",
              "      <td>...</td>\n",
              "      <td>...</td>\n",
              "    </tr>\n",
              "    <tr>\n",
              "      <th>7916</th>\n",
              "      <td>0</td>\n",
              "      <td>7916</td>\n",
              "      <td>0.0</td>\n",
              "      <td>3</td>\n",
              "    </tr>\n",
              "    <tr>\n",
              "      <th>7917</th>\n",
              "      <td>0</td>\n",
              "      <td>7917</td>\n",
              "      <td>0.0</td>\n",
              "      <td>3</td>\n",
              "    </tr>\n",
              "    <tr>\n",
              "      <th>7918</th>\n",
              "      <td>0</td>\n",
              "      <td>7918</td>\n",
              "      <td>0.0</td>\n",
              "      <td>3</td>\n",
              "    </tr>\n",
              "    <tr>\n",
              "      <th>7919</th>\n",
              "      <td>0</td>\n",
              "      <td>7919</td>\n",
              "      <td>0.0</td>\n",
              "      <td>3</td>\n",
              "    </tr>\n",
              "    <tr>\n",
              "      <th>7920</th>\n",
              "      <td>0</td>\n",
              "      <td>7920</td>\n",
              "      <td>0.0</td>\n",
              "      <td>3</td>\n",
              "    </tr>\n",
              "  </tbody>\n",
              "</table>\n",
              "<p>7921 rows × 4 columns</p>\n",
              "</div>\n",
              "      <button class=\"colab-df-convert\" onclick=\"convertToInteractive('df-323e9e8e-3e08-4212-9ffc-a482b24b99ec')\"\n",
              "              title=\"Convert this dataframe to an interactive table.\"\n",
              "              style=\"display:none;\">\n",
              "        \n",
              "  <svg xmlns=\"http://www.w3.org/2000/svg\" height=\"24px\"viewBox=\"0 0 24 24\"\n",
              "       width=\"24px\">\n",
              "    <path d=\"M0 0h24v24H0V0z\" fill=\"none\"/>\n",
              "    <path d=\"M18.56 5.44l.94 2.06.94-2.06 2.06-.94-2.06-.94-.94-2.06-.94 2.06-2.06.94zm-11 1L8.5 8.5l.94-2.06 2.06-.94-2.06-.94L8.5 2.5l-.94 2.06-2.06.94zm10 10l.94 2.06.94-2.06 2.06-.94-2.06-.94-.94-2.06-.94 2.06-2.06.94z\"/><path d=\"M17.41 7.96l-1.37-1.37c-.4-.4-.92-.59-1.43-.59-.52 0-1.04.2-1.43.59L10.3 9.45l-7.72 7.72c-.78.78-.78 2.05 0 2.83L4 21.41c.39.39.9.59 1.41.59.51 0 1.02-.2 1.41-.59l7.78-7.78 2.81-2.81c.8-.78.8-2.07 0-2.86zM5.41 20L4 18.59l7.72-7.72 1.47 1.35L5.41 20z\"/>\n",
              "  </svg>\n",
              "      </button>\n",
              "      \n",
              "  <style>\n",
              "    .colab-df-container {\n",
              "      display:flex;\n",
              "      flex-wrap:wrap;\n",
              "      gap: 12px;\n",
              "    }\n",
              "\n",
              "    .colab-df-convert {\n",
              "      background-color: #E8F0FE;\n",
              "      border: none;\n",
              "      border-radius: 50%;\n",
              "      cursor: pointer;\n",
              "      display: none;\n",
              "      fill: #1967D2;\n",
              "      height: 32px;\n",
              "      padding: 0 0 0 0;\n",
              "      width: 32px;\n",
              "    }\n",
              "\n",
              "    .colab-df-convert:hover {\n",
              "      background-color: #E2EBFA;\n",
              "      box-shadow: 0px 1px 2px rgba(60, 64, 67, 0.3), 0px 1px 3px 1px rgba(60, 64, 67, 0.15);\n",
              "      fill: #174EA6;\n",
              "    }\n",
              "\n",
              "    [theme=dark] .colab-df-convert {\n",
              "      background-color: #3B4455;\n",
              "      fill: #D2E3FC;\n",
              "    }\n",
              "\n",
              "    [theme=dark] .colab-df-convert:hover {\n",
              "      background-color: #434B5C;\n",
              "      box-shadow: 0px 1px 3px 1px rgba(0, 0, 0, 0.15);\n",
              "      filter: drop-shadow(0px 1px 2px rgba(0, 0, 0, 0.3));\n",
              "      fill: #FFFFFF;\n",
              "    }\n",
              "  </style>\n",
              "\n",
              "      <script>\n",
              "        const buttonEl =\n",
              "          document.querySelector('#df-323e9e8e-3e08-4212-9ffc-a482b24b99ec button.colab-df-convert');\n",
              "        buttonEl.style.display =\n",
              "          google.colab.kernel.accessAllowed ? 'block' : 'none';\n",
              "\n",
              "        async function convertToInteractive(key) {\n",
              "          const element = document.querySelector('#df-323e9e8e-3e08-4212-9ffc-a482b24b99ec');\n",
              "          const dataTable =\n",
              "            await google.colab.kernel.invokeFunction('convertToInteractive',\n",
              "                                                     [key], {});\n",
              "          if (!dataTable) return;\n",
              "\n",
              "          const docLinkHtml = 'Like what you see? Visit the ' +\n",
              "            '<a target=\"_blank\" href=https://colab.research.google.com/notebooks/data_table.ipynb>data table notebook</a>'\n",
              "            + ' to learn more about interactive tables.';\n",
              "          element.innerHTML = '';\n",
              "          dataTable['output_type'] = 'display_data';\n",
              "          await google.colab.output.renderOutput(dataTable, element);\n",
              "          const docLink = document.createElement('div');\n",
              "          docLink.innerHTML = docLinkHtml;\n",
              "          element.appendChild(docLink);\n",
              "        }\n",
              "      </script>\n",
              "    </div>\n",
              "  </div>\n",
              "  "
            ]
          },
          "metadata": {},
          "execution_count": 56
        }
      ]
    },
    {
      "cell_type": "code",
      "source": [
        "len(maxdf)"
      ],
      "metadata": {
        "id": "fUkvw03l6BFP",
        "colab": {
          "base_uri": "https://localhost:8080/"
        },
        "outputId": "dc30fecc-16a6-451e-a073-887e71e602f8"
      },
      "execution_count": null,
      "outputs": [
        {
          "output_type": "execute_result",
          "data": {
            "text/plain": [
              "64009601"
            ]
          },
          "metadata": {},
          "execution_count": 29
        }
      ]
    }
  ]
}