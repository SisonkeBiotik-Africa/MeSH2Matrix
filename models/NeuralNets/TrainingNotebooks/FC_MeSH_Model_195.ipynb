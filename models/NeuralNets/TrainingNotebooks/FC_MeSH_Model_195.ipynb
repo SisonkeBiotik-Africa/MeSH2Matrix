{
  "nbformat": 4,
  "nbformat_minor": 0,
  "metadata": {
    "colab": {
      "name": "FC_MeSH_Model_195.ipynb",
      "provenance": [],
      "collapsed_sections": []
    },
    "kernelspec": {
      "name": "python3",
      "display_name": "Python 3"
    },
    "language_info": {
      "name": "python"
    },
    "accelerator": "GPU"
  },
  "cells": [
    {
      "cell_type": "code",
      "execution_count": null,
      "metadata": {
        "id": "RBmRwrDfKQma"
      },
      "outputs": [],
      "source": [
        "from google.colab import drive\n",
        "drive.mount('/content/drive')\n",
        "DATA_DIR='/content/drive/MyDrive/BIR_Workshop/model_mesh'"
      ]
    },
    {
      "cell_type": "code",
      "source": [
        "!pip install livelossplot --quiet"
      ],
      "metadata": {
        "id": "3GDqgPfNWAGz"
      },
      "execution_count": 4,
      "outputs": []
    },
    {
      "cell_type": "code",
      "source": [
        "from google.colab import drive\n",
        "import os\n",
        "import matplotlib.pyplot as plt\n",
        "import pandas as pd\n",
        "import torch\n",
        "import numpy as np\n",
        "from sklearn.model_selection import train_test_split\n",
        "import torchtext\n",
        "from torch.utils.data import Dataset,DataLoader\n",
        "from torchtext.legacy.data import Field, TabularDataset, BucketIterator, Iterator\n",
        "import torch.nn as nn\n",
        "from torch.nn.utils.rnn import pack_padded_sequence, pad_packed_sequence\n",
        "import torch.optim as optim\n",
        "import torch.nn.functional as F\n",
        "from sklearn.metrics import accuracy_score, classification_report, confusion_matrix,f1_score\n",
        "from livelossplot import PlotLosses\n",
        "\n",
        "\n",
        "device = torch.device('cuda' if True and torch.cuda.is_available() else 'cpu')\n",
        "\n",
        "NUM_CLASSES = 195\n",
        "BATCH_SIZE = 128"
      ],
      "metadata": {
        "id": "_TBGMHA_KZwy"
      },
      "execution_count": 5,
      "outputs": []
    },
    {
      "cell_type": "markdown",
      "source": [
        "MeSH Dataset Class..."
      ],
      "metadata": {
        "id": "idPlJk3ZMzEZ"
      }
    },
    {
      "cell_type": "code",
      "source": [
        "class MESHDataset(Dataset):\n",
        "    def __init__(self,numpy_file,label_file):\n",
        "     \n",
        "      try:\n",
        "        self.data= np.load(numpy_file)\n",
        "        self.labels = np.load(label_file)\n",
        "      except Exception as err:\n",
        "        raise Exception(f'ERROR OPENING FILES: {numpy_file} | {label_file}. See Error below. \\n {err}')  \n",
        "       \n",
        "    def __len__(self):\n",
        "        return self.data.shape[0]\n",
        "    def __getitem__(self, idx):\n",
        "        #Get the element with `idx`\n",
        "        #Output an 89*89 matrix\n",
        "        return self.data[idx].flatten(), self.labels[idx]\n",
        "      "
      ],
      "metadata": {
        "id": "0b0Ea3PrMwgo"
      },
      "execution_count": 6,
      "outputs": []
    },
    {
      "cell_type": "markdown",
      "source": [
        "Baseline Model..."
      ],
      "metadata": {
        "id": "bHTH6wwuMxCj"
      }
    },
    {
      "cell_type": "code",
      "source": [
        "class BaselineModel(nn.Module):\n",
        "\n",
        "    def __init__(self, matrix_size=89):\n",
        "        super(BaselineModel, self).__init__()\n",
        "        self.linear1 = nn.Linear(matrix_size**2, (matrix_size**2)//2)\n",
        "        self.linear2 = nn.Linear((matrix_size**2)//2, matrix_size**2//4)\n",
        "        self.linear3 = nn.Linear((matrix_size**2)//4, NUM_CLASSES)\n",
        "        \n",
        "    def forward(self, x):\n",
        "\n",
        "        x = self.linear1(x)\n",
        "        x = F.relu(x) \n",
        "\n",
        "        x = self.linear2(x)\n",
        "        x = F.relu(x)\n",
        "\n",
        "        x = self.linear3(x)\n",
        "        return x"
      ],
      "metadata": {
        "id": "QUZY6XrPKtnF"
      },
      "execution_count": 7,
      "outputs": []
    },
    {
      "cell_type": "markdown",
      "source": [
        "Creating the dataloaders..."
      ],
      "metadata": {
        "id": "yyl1ZGauMx2D"
      }
    },
    {
      "cell_type": "code",
      "source": [
        "# train_dataset = MESHDataset(os.path.join(DATA_DIR,'train.npy'), os.path.join(DATA_DIR,'train_labels.npy'))\n",
        "# dev_dataset = MESHDataset(os.path.join(DATA_DIR,'dev.npy'), os.path.join(DATA_DIR,'dev_labels.npy'))\n",
        "# test_dataset = MESHDataset(os.path.join(DATA_DIR,'test.npy'),os.path.join(DATA_DIR,'test_labels.npy'))\n",
        "\n",
        "train_dataloader = DataLoader(train_dataset, batch_size=BATCH_SIZE, shuffle=True)\n",
        "dev_dataloader = DataLoader(dev_dataset, batch_size=BATCH_SIZE, shuffle=True)\n",
        "test_dataloader = DataLoader(test_dataset, batch_size=BATCH_SIZE, shuffle=False)"
      ],
      "metadata": {
        "id": "9L6bBWrQQ7ZY"
      },
      "execution_count": 8,
      "outputs": []
    },
    {
      "cell_type": "markdown",
      "source": [
        "Creating the model...\n"
      ],
      "metadata": {
        "id": "4csOitTpM3_G"
      }
    },
    {
      "cell_type": "code",
      "source": [
        "model = BaselineModel().to(device)\n",
        "model"
      ],
      "metadata": {
        "colab": {
          "base_uri": "https://localhost:8080/"
        },
        "id": "c_SMJMdyM5ay",
        "outputId": "b1c4fa03-15e8-4a9c-9cf8-e6ebc59c1843"
      },
      "execution_count": 9,
      "outputs": [
        {
          "output_type": "execute_result",
          "data": {
            "text/plain": [
              "BaselineModel(\n",
              "  (linear1): Linear(in_features=7921, out_features=3960, bias=True)\n",
              "  (linear2): Linear(in_features=3960, out_features=1980, bias=True)\n",
              "  (linear3): Linear(in_features=1980, out_features=5, bias=True)\n",
              ")"
            ]
          },
          "metadata": {},
          "execution_count": 9
        }
      ]
    },
    {
      "cell_type": "markdown",
      "source": [
        "Training Configuration..."
      ],
      "metadata": {
        "id": "vExAV-0PM8rX"
      }
    },
    {
      "cell_type": "code",
      "source": [
        "from sklearn.metrics import accuracy_score\n",
        "def compute_accuracy(pred, target):\n",
        "  return float(100 * accuracy_score(target.detach().numpy(), pred.argmax(-1).detach().numpy()))"
      ],
      "metadata": {
        "id": "FUkMvhaOWZTj"
      },
      "execution_count": 10,
      "outputs": []
    },
    {
      "cell_type": "code",
      "source": [
        "#Define criterion: Categorical cross entropy\n",
        "criterion = nn.CrossEntropyLoss()\n",
        "#Define optimizer. For now, Adam\n",
        "optimizer = optim.Adam(model.parameters(), lr=0.0001)\n",
        "\n",
        "PRINT_FREQ = 15\n",
        "DO_VALIDATION_STEP=15\n",
        "NUM_EPOCHS = 1500\n",
        "PATIENCE=50\n",
        "\n",
        "PATH=os.path.join(DATA_DIR,'best_model_1')\n",
        "best_acc = 0\n",
        "\n",
        "liveloss = PlotLosses()\n",
        "patience=0\n",
        "for epoch in range(NUM_EPOCHS):\n",
        "  for i,(features, label) in enumerate(train_dataloader):\n",
        "    features, label = features.to(device), label.to(device)\n",
        "    optimizer.zero_grad()\n",
        "    pred = model(features.float())\n",
        "    loss = criterion(pred,label)\n",
        "    \n",
        "    loss.backward()\n",
        "    optimizer.step()\n",
        "\n",
        "    if i%DO_VALIDATION_STEP==0:\n",
        "      #Do validation\n",
        "      model.eval()\n",
        "      val_losses=[]\n",
        "      val_acc_list=[]\n",
        "      for val_features, val_label in dev_dataloader:\n",
        "         val_features, val_label = val_features.to(device), val_label.to(device)\n",
        "         val_pred = model(val_features.float())\n",
        "         val_loss = criterion(val_pred,val_label)\n",
        "         val_losses.append(val_loss.item())\n",
        "         val_acc_list.append(compute_accuracy(val_pred.cpu(),val_label.cpu()))\n",
        "\n",
        "      val_loss_ = np.mean(val_losses) \n",
        "      val_acc = np.mean(val_acc_list)\n",
        "      if val_acc> best_acc:\n",
        "        best_acc=val_acc\n",
        "        patience=0\n",
        "        #Save model weights\n",
        "        torch.save(model.state_dict(), PATH)\n",
        "      else:\n",
        "        patience+=1\n",
        "      if patience >= PATIENCE:\n",
        "        break\n",
        "      logs={'loss':loss.item(),'val_loss':val_loss_,'val_accuracy':val_acc}\n",
        "      liveloss.update(logs)\n",
        "      liveloss.send()  \n",
        "      model.train()"
      ],
      "metadata": {
        "id": "EIj8vMcrM-3i"
      },
      "execution_count": null,
      "outputs": []
    },
    {
      "cell_type": "markdown",
      "source": [
        "Compute test metrics... "
      ],
      "metadata": {
        "id": "6Dft_hV2rGWG"
      }
    },
    {
      "cell_type": "code",
      "source": [
        "model.eval()\n",
        "test_acc_list=[]\n",
        "#f1_list=[]\n",
        "for test_features, test_label in test_dataloader:\n",
        "  test_features, test_label =test_features.to(device), test_label.to(device)\n",
        "  test_pred = model(test_features.float())\n",
        "\n",
        "  test_acc_list.append(compute_accuracy(test_pred.cpu(),test_label.cpu()))\n",
        "  #f1_list.append(f1_loss(test_label, test_pred).item())\n",
        "\n",
        "test_acc = np.mean(test_acc_list)\n",
        "#test_f1 = np.mean(f1_list)\n",
        "\n",
        "print(f'Test Metrics \\n _________________ \\n Mean Accuracy: {test_acc} ')     "
      ],
      "metadata": {
        "id": "3TCbQzZyrFDg"
      },
      "execution_count": null,
      "outputs": []
    }
  ]
}