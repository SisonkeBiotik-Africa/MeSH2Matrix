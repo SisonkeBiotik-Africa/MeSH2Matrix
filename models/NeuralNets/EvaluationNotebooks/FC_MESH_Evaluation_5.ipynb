{
  "nbformat": 4,
  "nbformat_minor": 0,
  "metadata": {
    "colab": {
      "name": "FC_Evaluation_5.ipynb",
      "provenance": [],
      "collapsed_sections": []
    },
    "kernelspec": {
      "name": "python3",
      "display_name": "Python 3"
    },
    "language_info": {
      "name": "python"
    }
  },
  "cells": [
    {
      "cell_type": "code",
      "execution_count": 1,
      "metadata": {
        "colab": {
          "base_uri": "https://localhost:8080/"
        },
        "id": "SqNItXZMtIan",
        "outputId": "e482682b-87e5-48a5-8885-106f36a037c6"
      },
      "outputs": [
        {
          "output_type": "stream",
          "name": "stdout",
          "text": [
            "Drive already mounted at /content/drive; to attempt to forcibly remount, call drive.mount(\"/content/drive\", force_remount=True).\n"
          ]
        }
      ],
      "source": [
        "import torch\n",
        "import os\n",
        "import numpy as np\n",
        "from google.colab import drive\n",
        "drive.mount('/content/drive')\n",
        "DATA_DIR='/content/drive/MyDrive/BIR_Workshop/model_mesh'\n",
        "PATH=os.path.join(DATA_DIR,'best_model_3')"
      ]
    },
    {
      "cell_type": "code",
      "source": [
        "from google.colab import drive\n",
        "import os\n",
        "import matplotlib.pyplot as plt\n",
        "import pandas as pd\n",
        "import torch\n",
        "import numpy as np\n",
        "from sklearn.model_selection import train_test_split\n",
        "import torchtext\n",
        "from torch.utils.data import Dataset,DataLoader\n",
        "from torchtext.legacy.data import Field, TabularDataset, BucketIterator, Iterator\n",
        "import torch.nn as nn\n",
        "from torch.nn.utils.rnn import pack_padded_sequence, pad_packed_sequence\n",
        "import torch.optim as optim\n",
        "import torch.nn.functional as F\n",
        "from sklearn.metrics import accuracy_score, confusion_matrix, f1_score\n",
        "\n",
        "from sklearn.metrics import classification_report as cr\n",
        "\n",
        "device = torch.device('cuda' if True and torch.cuda.is_available() else 'cpu')\n",
        "\n",
        "NUM_CLASSES = 5 # 195\n",
        "BATCH_SIZE = 32"
      ],
      "metadata": {
        "id": "sGenvqtwoXGm"
      },
      "execution_count": 2,
      "outputs": []
    },
    {
      "cell_type": "code",
      "source": [
        "class MESHDataset(Dataset):\n",
        "    def __init__(self,numpy_file,label_file):\n",
        "     \n",
        "      try:\n",
        "        self.data= np.load(numpy_file)\n",
        "        self.labels = np.load(label_file)\n",
        "      except Exception as err:\n",
        "        raise Exception(f'ERROR OPENING FILES: {numpy_file} | {label_file}. See Error below. \\n {err}')  \n",
        "       \n",
        "    def __len__(self):\n",
        "        return self.data.shape[0]\n",
        "    def __getitem__(self, idx):\n",
        "        #Get the element with `idx`\n",
        "        #Output an 89*89 matrix\n",
        "        return self.data[idx].flatten(), self.labels[idx]"
      ],
      "metadata": {
        "id": "AaI9-vn4zma2"
      },
      "execution_count": 3,
      "outputs": []
    },
    {
      "cell_type": "code",
      "source": [
        "test_dataset = MESHDataset(os.path.join(DATA_DIR,'test.npy'),os.path.join(DATA_DIR,'grouped_test_labels.npy'))\n",
        "test_dataloader = DataLoader(test_dataset, batch_size=BATCH_SIZE, shuffle=False)"
      ],
      "metadata": {
        "id": "b2GTIhNTo1C8"
      },
      "execution_count": 4,
      "outputs": []
    },
    {
      "cell_type": "code",
      "source": [
        "from sklearn.metrics import accuracy_score\n",
        "def compute_accuracy(pred, target):\n",
        "  return target.detach().numpy(), pred.argmax(-1).detach().numpy()"
      ],
      "metadata": {
        "id": "XT9WfHD5pQGo"
      },
      "execution_count": 5,
      "outputs": []
    },
    {
      "cell_type": "code",
      "source": [
        "class BaselineModel(nn.Module):\n",
        "\n",
        "    def __init__(self, matrix_size=89):\n",
        "        super(BaselineModel, self).__init__()\n",
        "        self.linear1 = nn.Linear(matrix_size**2, (matrix_size**2)//2)\n",
        "        self.linear2 = nn.Linear((matrix_size**2)//2, matrix_size**2//4)\n",
        "        self.linear3 = nn.Linear((matrix_size**2)//4, NUM_CLASSES)\n",
        "        \n",
        "    def forward(self, x):\n",
        "\n",
        "        x = self.linear1(x)\n",
        "        x = F.relu(x) \n",
        "\n",
        "        x = self.linear2(x)\n",
        "        x = F.relu(x)\n",
        "\n",
        "        x = self.linear3(x)\n",
        "        return x"
      ],
      "metadata": {
        "id": "YYS1vDFHp8cK"
      },
      "execution_count": 6,
      "outputs": []
    },
    {
      "cell_type": "code",
      "source": [
        "model = BaselineModel().to(device)\n",
        "model.load_state_dict(torch.load(PATH, map_location='cpu'))\n",
        "print(model)\n",
        "model.eval()\n",
        "\n",
        "labels, preds = [], []\n",
        "for test_features, test_label in test_dataloader:\n",
        "  # print(test_features.size())\n",
        "  test_features, test_label = test_features.to(device), test_label.to(device)\n",
        "  test_pred = model(test_features.float())\n",
        "  true, predictions = compute_accuracy(test_pred.cpu(),test_label.cpu())\n",
        "  labels += true.tolist()\n",
        "  preds += predictions.tolist()\n",
        "print(f'Best Dense Model Accuracy with 5 classes:{accuracy_score(labels, preds)}')\n",
        "print(\"Best Dense Model Weighted F1-Score with 5 classes: {}\".format(f1_score(labels, preds, average='weighted')))"
      ],
      "metadata": {
        "colab": {
          "base_uri": "https://localhost:8080/"
        },
        "id": "noiuouO8pUXw",
        "outputId": "7a286f9c-e2b7-401b-d2f7-7ecd4c381bb0"
      },
      "execution_count": 8,
      "outputs": [
        {
          "output_type": "stream",
          "name": "stdout",
          "text": [
            "BaselineModel(\n",
            "  (linear1): Linear(in_features=7921, out_features=3960, bias=True)\n",
            "  (linear2): Linear(in_features=3960, out_features=1980, bias=True)\n",
            "  (linear3): Linear(in_features=1980, out_features=5, bias=True)\n",
            ")\n",
            "Best Dense Model Accuracy with 5 classes:0.8308586184635248\n",
            "Best Dense Model Weighted F1-Score with 5 classes: 0.8293958287174851\n"
          ]
        }
      ]
    }
  ]
}