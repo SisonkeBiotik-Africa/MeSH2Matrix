{
  "nbformat": 4,
  "nbformat_minor": 0,
  "metadata": {
    "colab": {
      "name": "FC_MESH_Evaluation_195.ipynb",
      "provenance": [],
      "collapsed_sections": []
    },
    "kernelspec": {
      "name": "python3",
      "display_name": "Python 3"
    },
    "language_info": {
      "name": "python"
    }
  },
  "cells": [
    {
      "cell_type": "code",
      "execution_count": null,
      "metadata": {
        "colab": {
          "base_uri": "https://localhost:8080/"
        },
        "id": "SqNItXZMtIan",
        "outputId": "5717f9dd-d926-47b6-afea-a19ba611923a"
      },
      "outputs": [
        {
          "output_type": "stream",
          "name": "stdout",
          "text": [
            "Drive already mounted at /content/drive; to attempt to forcibly remount, call drive.mount(\"/content/drive\", force_remount=True).\n"
          ]
        }
      ],
      "source": [
        "import torch\n",
        "import os\n",
        "import numpy as np\n",
        "from google.colab import drive\n",
        "drive.mount('/content/drive')\n",
        "DATA_DIR='/content/drive/MyDrive/Colab Notebooks/mesh2matrix/BIR_Workshop/model_mesh'\n",
        "#DATA_DIR='/content/drive/MyDrive/BIR_Workshop/model_mesh'\n",
        "PATH=os.path.join(DATA_DIR,'best_model_1')"
      ]
    },
    {
      "cell_type": "code",
      "source": [
        "os.chdir('/content/drive/MyDrive/Colab Notebooks/mesh2matrix')"
      ],
      "metadata": {
        "id": "8zysYmgL6O3k"
      },
      "execution_count": null,
      "outputs": []
    },
    {
      "cell_type": "code",
      "source": [
        "!pip install -r MeSH2Matrix/requirements.txt"
      ],
      "metadata": {
        "id": "OMrjF-cJ6Stu",
        "colab": {
          "base_uri": "https://localhost:8080/",
          "height": 1000
        },
        "outputId": "4b620fd7-207d-4305-91ee-6e29307eeec6"
      },
      "execution_count": null,
      "outputs": [
        {
          "output_type": "stream",
          "name": "stdout",
          "text": [
            "Looking in indexes: https://pypi.org/simple, https://us-python.pkg.dev/colab-wheels/public/simple/\n",
            "Collecting biopython\n",
            "  Downloading biopython-1.79-cp37-cp37m-manylinux_2_5_x86_64.manylinux1_x86_64.whl (2.3 MB)\n",
            "\u001b[K     |████████████████████████████████| 2.3 MB 10.3 MB/s \n",
            "\u001b[?25hRequirement already satisfied: gdown>=4.2.0 in /usr/local/lib/python3.7/dist-packages (from -r MeSH2Matrix/requirements.txt (line 2)) (4.4.0)\n",
            "Requirement already satisfied: numpy in /usr/local/lib/python3.7/dist-packages (from -r MeSH2Matrix/requirements.txt (line 3)) (1.21.6)\n",
            "Requirement already satisfied: pandas in /usr/local/lib/python3.7/dist-packages (from -r MeSH2Matrix/requirements.txt (line 4)) (1.3.5)\n",
            "Requirement already satisfied: scikit-learn in /usr/local/lib/python3.7/dist-packages (from -r MeSH2Matrix/requirements.txt (line 5)) (1.0.2)\n",
            "Collecting torch==1.8.1\n",
            "  Downloading torch-1.8.1-cp37-cp37m-manylinux1_x86_64.whl (804.1 MB)\n",
            "\u001b[K     |████████████████████████████████| 804.1 MB 2.4 kB/s \n",
            "\u001b[?25hCollecting livelossplot\n",
            "  Downloading livelossplot-0.5.5-py3-none-any.whl (22 kB)\n",
            "Requirement already satisfied: matplotlib in /usr/local/lib/python3.7/dist-packages (from -r MeSH2Matrix/requirements.txt (line 8)) (3.2.2)\n",
            "Collecting torchtext==0.9.1\n",
            "  Downloading torchtext-0.9.1-cp37-cp37m-manylinux1_x86_64.whl (7.1 MB)\n",
            "\u001b[K     |████████████████████████████████| 7.1 MB 30.3 MB/s \n",
            "\u001b[?25hRequirement already satisfied: typing-extensions in /usr/local/lib/python3.7/dist-packages (from torch==1.8.1->-r MeSH2Matrix/requirements.txt (line 6)) (4.1.1)\n",
            "Requirement already satisfied: tqdm in /usr/local/lib/python3.7/dist-packages (from torchtext==0.9.1->-r MeSH2Matrix/requirements.txt (line 10)) (4.64.0)\n",
            "Requirement already satisfied: requests in /usr/local/lib/python3.7/dist-packages (from torchtext==0.9.1->-r MeSH2Matrix/requirements.txt (line 10)) (2.23.0)\n",
            "Requirement already satisfied: filelock in /usr/local/lib/python3.7/dist-packages (from gdown>=4.2.0->-r MeSH2Matrix/requirements.txt (line 2)) (3.7.1)\n",
            "Requirement already satisfied: beautifulsoup4 in /usr/local/lib/python3.7/dist-packages (from gdown>=4.2.0->-r MeSH2Matrix/requirements.txt (line 2)) (4.6.3)\n",
            "Requirement already satisfied: six in /usr/local/lib/python3.7/dist-packages (from gdown>=4.2.0->-r MeSH2Matrix/requirements.txt (line 2)) (1.15.0)\n",
            "Requirement already satisfied: pytz>=2017.3 in /usr/local/lib/python3.7/dist-packages (from pandas->-r MeSH2Matrix/requirements.txt (line 4)) (2022.1)\n",
            "Requirement already satisfied: python-dateutil>=2.7.3 in /usr/local/lib/python3.7/dist-packages (from pandas->-r MeSH2Matrix/requirements.txt (line 4)) (2.8.2)\n",
            "Requirement already satisfied: scipy>=1.1.0 in /usr/local/lib/python3.7/dist-packages (from scikit-learn->-r MeSH2Matrix/requirements.txt (line 5)) (1.4.1)\n",
            "Requirement already satisfied: threadpoolctl>=2.0.0 in /usr/local/lib/python3.7/dist-packages (from scikit-learn->-r MeSH2Matrix/requirements.txt (line 5)) (3.1.0)\n",
            "Requirement already satisfied: joblib>=0.11 in /usr/local/lib/python3.7/dist-packages (from scikit-learn->-r MeSH2Matrix/requirements.txt (line 5)) (1.1.0)\n",
            "Collecting ipython==7.*\n",
            "  Downloading ipython-7.34.0-py3-none-any.whl (793 kB)\n",
            "\u001b[K     |████████████████████████████████| 793 kB 51.3 MB/s \n",
            "\u001b[?25hRequirement already satisfied: bokeh in /usr/local/lib/python3.7/dist-packages (from livelossplot->-r MeSH2Matrix/requirements.txt (line 7)) (2.3.3)\n",
            "Collecting prompt-toolkit!=3.0.0,!=3.0.1,<3.1.0,>=2.0.0\n",
            "  Downloading prompt_toolkit-3.0.30-py3-none-any.whl (381 kB)\n",
            "\u001b[K     |████████████████████████████████| 381 kB 55.6 MB/s \n",
            "\u001b[?25hRequirement already satisfied: pickleshare in /usr/local/lib/python3.7/dist-packages (from ipython==7.*->livelossplot->-r MeSH2Matrix/requirements.txt (line 7)) (0.7.5)\n",
            "Requirement already satisfied: pexpect>4.3 in /usr/local/lib/python3.7/dist-packages (from ipython==7.*->livelossplot->-r MeSH2Matrix/requirements.txt (line 7)) (4.8.0)\n",
            "Requirement already satisfied: backcall in /usr/local/lib/python3.7/dist-packages (from ipython==7.*->livelossplot->-r MeSH2Matrix/requirements.txt (line 7)) (0.2.0)\n",
            "Requirement already satisfied: matplotlib-inline in /usr/local/lib/python3.7/dist-packages (from ipython==7.*->livelossplot->-r MeSH2Matrix/requirements.txt (line 7)) (0.1.3)\n",
            "Requirement already satisfied: pygments in /usr/local/lib/python3.7/dist-packages (from ipython==7.*->livelossplot->-r MeSH2Matrix/requirements.txt (line 7)) (2.6.1)\n",
            "Requirement already satisfied: jedi>=0.16 in /usr/local/lib/python3.7/dist-packages (from ipython==7.*->livelossplot->-r MeSH2Matrix/requirements.txt (line 7)) (0.18.1)\n",
            "Requirement already satisfied: setuptools>=18.5 in /usr/local/lib/python3.7/dist-packages (from ipython==7.*->livelossplot->-r MeSH2Matrix/requirements.txt (line 7)) (57.4.0)\n",
            "Requirement already satisfied: decorator in /usr/local/lib/python3.7/dist-packages (from ipython==7.*->livelossplot->-r MeSH2Matrix/requirements.txt (line 7)) (4.4.2)\n",
            "Requirement already satisfied: traitlets>=4.2 in /usr/local/lib/python3.7/dist-packages (from ipython==7.*->livelossplot->-r MeSH2Matrix/requirements.txt (line 7)) (5.1.1)\n",
            "Requirement already satisfied: parso<0.9.0,>=0.8.0 in /usr/local/lib/python3.7/dist-packages (from jedi>=0.16->ipython==7.*->livelossplot->-r MeSH2Matrix/requirements.txt (line 7)) (0.8.3)\n",
            "Requirement already satisfied: ptyprocess>=0.5 in /usr/local/lib/python3.7/dist-packages (from pexpect>4.3->ipython==7.*->livelossplot->-r MeSH2Matrix/requirements.txt (line 7)) (0.7.0)\n",
            "Requirement already satisfied: wcwidth in /usr/local/lib/python3.7/dist-packages (from prompt-toolkit!=3.0.0,!=3.0.1,<3.1.0,>=2.0.0->ipython==7.*->livelossplot->-r MeSH2Matrix/requirements.txt (line 7)) (0.2.5)\n",
            "Requirement already satisfied: pyparsing!=2.0.4,!=2.1.2,!=2.1.6,>=2.0.1 in /usr/local/lib/python3.7/dist-packages (from matplotlib->-r MeSH2Matrix/requirements.txt (line 8)) (3.0.9)\n",
            "Requirement already satisfied: kiwisolver>=1.0.1 in /usr/local/lib/python3.7/dist-packages (from matplotlib->-r MeSH2Matrix/requirements.txt (line 8)) (1.4.3)\n",
            "Requirement already satisfied: cycler>=0.10 in /usr/local/lib/python3.7/dist-packages (from matplotlib->-r MeSH2Matrix/requirements.txt (line 8)) (0.11.0)\n",
            "Requirement already satisfied: Jinja2>=2.9 in /usr/local/lib/python3.7/dist-packages (from bokeh->livelossplot->-r MeSH2Matrix/requirements.txt (line 7)) (2.11.3)\n",
            "Requirement already satisfied: pillow>=7.1.0 in /usr/local/lib/python3.7/dist-packages (from bokeh->livelossplot->-r MeSH2Matrix/requirements.txt (line 7)) (7.1.2)\n",
            "Requirement already satisfied: tornado>=5.1 in /usr/local/lib/python3.7/dist-packages (from bokeh->livelossplot->-r MeSH2Matrix/requirements.txt (line 7)) (5.1.1)\n",
            "Requirement already satisfied: PyYAML>=3.10 in /usr/local/lib/python3.7/dist-packages (from bokeh->livelossplot->-r MeSH2Matrix/requirements.txt (line 7)) (3.13)\n",
            "Requirement already satisfied: packaging>=16.8 in /usr/local/lib/python3.7/dist-packages (from bokeh->livelossplot->-r MeSH2Matrix/requirements.txt (line 7)) (21.3)\n",
            "Requirement already satisfied: MarkupSafe>=0.23 in /usr/local/lib/python3.7/dist-packages (from Jinja2>=2.9->bokeh->livelossplot->-r MeSH2Matrix/requirements.txt (line 7)) (2.0.1)\n",
            "Requirement already satisfied: urllib3!=1.25.0,!=1.25.1,<1.26,>=1.21.1 in /usr/local/lib/python3.7/dist-packages (from requests->torchtext==0.9.1->-r MeSH2Matrix/requirements.txt (line 10)) (1.24.3)\n",
            "Requirement already satisfied: idna<3,>=2.5 in /usr/local/lib/python3.7/dist-packages (from requests->torchtext==0.9.1->-r MeSH2Matrix/requirements.txt (line 10)) (2.10)\n",
            "Requirement already satisfied: chardet<4,>=3.0.2 in /usr/local/lib/python3.7/dist-packages (from requests->torchtext==0.9.1->-r MeSH2Matrix/requirements.txt (line 10)) (3.0.4)\n",
            "Requirement already satisfied: certifi>=2017.4.17 in /usr/local/lib/python3.7/dist-packages (from requests->torchtext==0.9.1->-r MeSH2Matrix/requirements.txt (line 10)) (2022.6.15)\n",
            "Requirement already satisfied: PySocks!=1.5.7,>=1.5.6 in /usr/local/lib/python3.7/dist-packages (from requests->torchtext==0.9.1->-r MeSH2Matrix/requirements.txt (line 10)) (1.7.1)\n",
            "Installing collected packages: prompt-toolkit, torch, ipython, torchtext, livelossplot, biopython\n",
            "  Attempting uninstall: prompt-toolkit\n",
            "    Found existing installation: prompt-toolkit 1.0.18\n",
            "    Uninstalling prompt-toolkit-1.0.18:\n",
            "      Successfully uninstalled prompt-toolkit-1.0.18\n",
            "  Attempting uninstall: torch\n",
            "    Found existing installation: torch 1.11.0+cu113\n",
            "    Uninstalling torch-1.11.0+cu113:\n",
            "      Successfully uninstalled torch-1.11.0+cu113\n",
            "  Attempting uninstall: ipython\n",
            "    Found existing installation: ipython 5.5.0\n",
            "    Uninstalling ipython-5.5.0:\n",
            "      Successfully uninstalled ipython-5.5.0\n",
            "  Attempting uninstall: torchtext\n",
            "    Found existing installation: torchtext 0.12.0\n",
            "    Uninstalling torchtext-0.12.0:\n",
            "      Successfully uninstalled torchtext-0.12.0\n",
            "\u001b[31mERROR: pip's dependency resolver does not currently take into account all the packages that are installed. This behaviour is the source of the following dependency conflicts.\n",
            "torchvision 0.12.0+cu113 requires torch==1.11.0, but you have torch 1.8.1 which is incompatible.\n",
            "torchaudio 0.11.0+cu113 requires torch==1.11.0, but you have torch 1.8.1 which is incompatible.\n",
            "jupyter-console 5.2.0 requires prompt-toolkit<2.0.0,>=1.0.0, but you have prompt-toolkit 3.0.30 which is incompatible.\n",
            "google-colab 1.0.0 requires ipython~=5.5.0, but you have ipython 7.34.0 which is incompatible.\u001b[0m\n",
            "Successfully installed biopython-1.79 ipython-7.34.0 livelossplot-0.5.5 prompt-toolkit-3.0.30 torch-1.8.1 torchtext-0.9.1\n"
          ]
        },
        {
          "output_type": "display_data",
          "data": {
            "application/vnd.colab-display-data+json": {
              "pip_warning": {
                "packages": [
                  "IPython",
                  "prompt_toolkit",
                  "torch"
                ]
              }
            }
          },
          "metadata": {}
        }
      ]
    },
    {
      "cell_type": "code",
      "source": [
        "from google.colab import drive\n",
        "import os\n",
        "import matplotlib.pyplot as plt\n",
        "import pandas as pd\n",
        "import torch\n",
        "import numpy as np\n",
        "from sklearn.model_selection import train_test_split\n",
        "import torchtext\n",
        "from torch.utils.data import Dataset,DataLoader\n",
        "from torchtext.legacy.data import Field, TabularDataset, BucketIterator, Iterator\n",
        "import torch.nn as nn\n",
        "from torch.nn.utils.rnn import pack_padded_sequence, pad_packed_sequence\n",
        "import torch.optim as optim\n",
        "import torch.nn.functional as F\n",
        "from sklearn.metrics import accuracy_score, confusion_matrix, f1_score\n",
        "\n",
        "from sklearn.metrics import classification_report as cr\n",
        "\n",
        "device = torch.device('cuda' if True and torch.cuda.is_available() else 'cpu')\n",
        "\n",
        "NUM_CLASSES = 195\n",
        "BATCH_SIZE = 32"
      ],
      "metadata": {
        "id": "sGenvqtwoXGm"
      },
      "execution_count": null,
      "outputs": []
    },
    {
      "cell_type": "code",
      "source": [
        "class MESHDataset(Dataset):\n",
        "    def __init__(self,numpy_file,label_file):\n",
        "     \n",
        "      try:\n",
        "        self.data= np.load(numpy_file)\n",
        "        self.labels = np.load(label_file)\n",
        "      except Exception as err:\n",
        "        raise Exception(f'ERROR OPENING FILES: {numpy_file} | {label_file}. See Error below. \\n {err}')  \n",
        "       \n",
        "    def __len__(self):\n",
        "        return self.data.shape[0]\n",
        "    def __getitem__(self, idx):\n",
        "        #Get the element with `idx`\n",
        "        #Output an 89*89 matrix\n",
        "        return self.data[idx].flatten(), self.labels[idx]"
      ],
      "metadata": {
        "id": "AaI9-vn4zma2"
      },
      "execution_count": null,
      "outputs": []
    },
    {
      "cell_type": "code",
      "source": [
        "test_dataset = MESHDataset(os.path.join(DATA_DIR,'test.npy'),os.path.join(DATA_DIR,'test_labels.npy'))\n",
        "# test_dataset = MESHDataset(os.path.join(DATA_DIR,'test.npy'),os.path.join(DATA_DIR,'grouped_test_labels.npy'))\n",
        "test_dataloader = DataLoader(test_dataset, batch_size=BATCH_SIZE, shuffle=False)"
      ],
      "metadata": {
        "id": "b2GTIhNTo1C8"
      },
      "execution_count": null,
      "outputs": []
    },
    {
      "cell_type": "code",
      "source": [
        "from sklearn.metrics import accuracy_score\n",
        "def compute_accuracy(pred, target):\n",
        "  return target.detach().numpy(), pred.argmax(-1).detach().numpy()"
      ],
      "metadata": {
        "id": "XT9WfHD5pQGo"
      },
      "execution_count": null,
      "outputs": []
    },
    {
      "cell_type": "code",
      "source": [
        "class BaselineModel(nn.Module):\n",
        "\n",
        "    def __init__(self, matrix_size=89):\n",
        "        super(BaselineModel, self).__init__()\n",
        "        self.linear1 = nn.Linear(matrix_size**2, (matrix_size**2)//2)\n",
        "        self.linear2 = nn.Linear((matrix_size**2)//2, matrix_size**2//4)\n",
        "        self.linear3 = nn.Linear((matrix_size**2)//4, NUM_CLASSES)\n",
        "        \n",
        "    def forward(self, x):\n",
        "\n",
        "        x = self.linear1(x)\n",
        "        x = F.relu(x) \n",
        "\n",
        "        x = self.linear2(x)\n",
        "        x = F.relu(x)\n",
        "\n",
        "        x = self.linear3(x)\n",
        "        return x"
      ],
      "metadata": {
        "id": "YYS1vDFHp8cK"
      },
      "execution_count": null,
      "outputs": []
    },
    {
      "cell_type": "code",
      "source": [
        "model = BaselineModel().to(device)\n",
        "model.load_state_dict(torch.load(PATH, map_location='cpu'))\n",
        "print(model)\n",
        "model.eval()\n",
        "\n",
        "labels, preds = [], []\n",
        "for test_features, test_label in test_dataloader:\n",
        "  # print(test_features.size())\n",
        "  test_features, test_label = test_features.to(device), test_label.to(device)\n",
        "  test_pred = model(test_features.float())\n",
        "  true, predictions = compute_accuracy(test_pred.cpu(),test_label.cpu())\n",
        "  labels += true.tolist()\n",
        "  preds += predictions.tolist()\n",
        "print(f'Best Dense Model Accuracy with 195 classes:{accuracy_score(labels, preds)}')\n",
        "print(\"Best Dense Model Weighted F1-Score with 195 classes: {}\".format(f1_score(labels, preds, average='weighted')))"
      ],
      "metadata": {
        "colab": {
          "base_uri": "https://localhost:8080/"
        },
        "id": "noiuouO8pUXw",
        "outputId": "07198671-a05b-4812-83c4-63335c712fe5"
      },
      "execution_count": null,
      "outputs": [
        {
          "output_type": "stream",
          "name": "stdout",
          "text": [
            "BaselineModel(\n",
            "  (linear1): Linear(in_features=7921, out_features=3960, bias=True)\n",
            "  (linear2): Linear(in_features=3960, out_features=1980, bias=True)\n",
            "  (linear3): Linear(in_features=1980, out_features=195, bias=True)\n",
            ")\n",
            "Best Dense Model Accuracy with 195 classes:0.7077684527652249\n",
            "Best Dense Model Weighted F1-Score with 195 classes: 0.6689272084790814\n"
          ]
        }
      ]
    },
    {
      "cell_type": "markdown",
      "source": [
        "# Confusion Matrix"
      ],
      "metadata": {
        "id": "TrVl38S79K51"
      }
    },
    {
      "cell_type": "code",
      "source": [
        "list(set(preds)) in list(set(labels))"
      ],
      "metadata": {
        "colab": {
          "base_uri": "https://localhost:8080/"
        },
        "id": "12MdUygE_eAG",
        "outputId": "1b9c6486-d36f-48c7-a921-a1287c5bac20"
      },
      "execution_count": null,
      "outputs": [
        {
          "output_type": "execute_result",
          "data": {
            "text/plain": [
              "False"
            ]
          },
          "metadata": {},
          "execution_count": 26
        }
      ]
    },
    {
      "cell_type": "code",
      "source": [
        "len(set(preds))"
      ],
      "metadata": {
        "colab": {
          "base_uri": "https://localhost:8080/"
        },
        "id": "wic8nhwYBCXe",
        "outputId": "c3e291f0-158c-4cd7-8eae-2fdb659ecd76"
      },
      "execution_count": null,
      "outputs": [
        {
          "output_type": "execute_result",
          "data": {
            "text/plain": [
              "56"
            ]
          },
          "metadata": {},
          "execution_count": 44
        }
      ]
    },
    {
      "cell_type": "code",
      "source": [
        "len(set(labels))"
      ],
      "metadata": {
        "colab": {
          "base_uri": "https://localhost:8080/"
        },
        "id": "OejByeVEAbs0",
        "outputId": "60af6d25-f5cf-43c3-cf00-f2192a9a08ef"
      },
      "execution_count": null,
      "outputs": [
        {
          "output_type": "execute_result",
          "data": {
            "text/plain": [
              "125"
            ]
          },
          "metadata": {},
          "execution_count": 42
        }
      ]
    },
    {
      "cell_type": "code",
      "source": [
        "confusion= confusion_matrix(labels, preds)\n",
        "print(confusion)"
      ],
      "metadata": {
        "colab": {
          "base_uri": "https://localhost:8080/"
        },
        "id": "llWE373o9ti4",
        "outputId": "a6eefa11-d023-4e4b-8e11-fc135fba64a0"
      },
      "execution_count": null,
      "outputs": [
        {
          "output_type": "stream",
          "name": "stdout",
          "text": [
            "[[  0   0   0 ...   2   0   0]\n",
            " [  0  54   0 ...   0   0   0]\n",
            " [  0   0   1 ...   0   0   0]\n",
            " ...\n",
            " [  0   0   0 ... 267   0   0]\n",
            " [  0   0   0 ...   0   0   0]\n",
            " [  0   0   0 ...   0   0   0]]\n"
          ]
        }
      ]
    }
  ]
}