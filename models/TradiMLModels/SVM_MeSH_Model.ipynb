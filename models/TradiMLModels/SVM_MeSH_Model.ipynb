{
  "nbformat": 4,
  "nbformat_minor": 0,
  "metadata": {
    "colab": {
      "name": "SVM_MeSH Model.ipynb",
      "provenance": [],
      "collapsed_sections": []
    },
    "kernelspec": {
      "name": "python3",
      "display_name": "Python 3"
    },
    "language_info": {
      "name": "python"
    },
    "accelerator": "GPU"
  },
  "cells": [
    {
      "cell_type": "code",
      "execution_count": null,
      "metadata": {
        "colab": {
          "base_uri": "https://localhost:8080/"
        },
        "id": "RBmRwrDfKQma",
        "outputId": "f6a58d33-fa61-4a05-de1c-5f801fab237e"
      },
      "outputs": [
        {
          "output_type": "stream",
          "name": "stdout",
          "text": [
            "Drive already mounted at /content/drive; to attempt to forcibly remount, call drive.mount(\"/content/drive\", force_remount=True).\n"
          ]
        }
      ],
      "source": [
        "from google.colab import drive\n",
        "drive.mount('/content/drive')\n",
        "DATA_DIR='/content/drive/MyDrive/mesh'"
      ]
    },
    {
      "cell_type": "code",
      "source": [
        "from google.colab import drive\n",
        "import os\n",
        "import numpy as np\n",
        "from sklearn.metrics import confusion_matrix\n",
        "from sklearn.pipeline import make_pipeline\n",
        "from sklearn.preprocessing import StandardScaler\n",
        "from sklearn.datasets import make_classification\n",
        "import matplotlib.pyplot as plt\n",
        "from sklearn.metrics import accuracy_score, confusion_matrix, f1_score\n",
        "\n",
        "#https://scikit-learn.org/stable/modules/generated/sklearn.svm.LinearSVC.html\n",
        "from sklearn.svm import LinearSVC\n",
        "\n",
        "\n",
        "NUM_CLASSES=195\n",
        "BATCH_SIZE=32"
      ],
      "metadata": {
        "id": "_TBGMHA_KZwy"
      },
      "execution_count": null,
      "outputs": []
    },
    {
      "cell_type": "markdown",
      "source": [
        "MeSH Dataset Class..."
      ],
      "metadata": {
        "id": "idPlJk3ZMzEZ"
      }
    },
    {
      "cell_type": "code",
      "source": [
        "class MESHDataset(Dataset):\n",
        "    def __init__(self,numpy_file,label_file):\n",
        "     \n",
        "      try:\n",
        "        self.data= np.load(numpy_file)\n",
        "        self.labels = np.load(label_file)\n",
        "      except Exception as err:\n",
        "        raise Exception(f'ERROR OPENING FILES: {numpy_file} | {label_file}. See Error below. \\n {err}')  \n",
        "       \n",
        "    def __len__(self):\n",
        "        return self.data.shape[0]\n",
        "    def __getitem__(self, idx):\n",
        "        #Get the element with `idx`\n",
        "        #Output an 89*89 matrix\n",
        "        return np.expand_dims(self.data[idx], axis=0), self.labels[idx]\n",
        "\n",
        "    def get(self):\n",
        "        return self.data.reshape(self.data.shape[0],-1),self.labels    \n",
        "      "
      ],
      "metadata": {
        "id": "0b0Ea3PrMwgo"
      },
      "execution_count": null,
      "outputs": []
    },
    {
      "cell_type": "code",
      "source": [
        "X_train, y_train = MESHDataset(os.path.join(DATA_DIR,'output/train.npy'),os.path.join(DATA_DIR,'output/train_labels.npy')).get()\n",
        "X_valid, y_valid = MESHDataset(os.path.join(DATA_DIR,'output/dev.npy'),os.path.join(DATA_DIR,'output/dev_labels.npy')).get()\n",
        "X_test, y_test = MESHDataset(os.path.join(DATA_DIR,'output/test.npy'),os.path.join(DATA_DIR,'output/test_labels.npy')).get()\n",
        "\n",
        "X_train,y_train = np.concatenate((X_train,X_valid),axis=0),np.concatenate((y_train,y_valid),axis=0)"
      ],
      "metadata": {
        "id": "DLdx9cWDKAjP"
      },
      "execution_count": null,
      "outputs": []
    },
    {
      "cell_type": "code",
      "source": [
        "print(X_train.shape,y_train.shape)"
      ],
      "metadata": {
        "colab": {
          "base_uri": "https://localhost:8080/"
        },
        "id": "dzuOVf-RK0T-",
        "outputId": "bc34a4fb-757b-417a-c198-8ba34c245070"
      },
      "execution_count": null,
      "outputs": [
        {
          "output_type": "stream",
          "name": "stdout",
          "text": [
            "(46469, 7921) (46469,)\n"
          ]
        }
      ]
    },
    {
      "cell_type": "markdown",
      "source": [
        "LinearSVC (faster implementation of SVM)..."
      ],
      "metadata": {
        "id": "YT-VhICLyWP_"
      }
    },
    {
      "cell_type": "code",
      "source": [
        "clf = make_pipeline(LinearSVC(random_state=0, tol=1e-5,max_iter=10_000))\n",
        "clf.fit(X_train, y_train)"
      ],
      "metadata": {
        "colab": {
          "base_uri": "https://localhost:8080/"
        },
        "id": "Tr4gLq2dyawY",
        "outputId": "41c25e07-2f9f-40ac-b942-8d00ca0237bf"
      },
      "execution_count": null,
      "outputs": [
        {
          "output_type": "execute_result",
          "data": {
            "text/plain": [
              "Pipeline(steps=[('linearsvc',\n",
              "                 LinearSVC(max_iter=10000, random_state=0, tol=1e-05))])"
            ]
          },
          "metadata": {},
          "execution_count": 22
        }
      ]
    },
    {
      "cell_type": "markdown",
      "source": [
        "Without StandardScaler..."
      ],
      "metadata": {
        "id": "0o0wkroh7t1O"
      }
    },
    {
      "cell_type": "code",
      "source": [
        "clf.score(X_test,y_test)"
      ],
      "metadata": {
        "colab": {
          "base_uri": "https://localhost:8080/"
        },
        "id": "f5V8uDSQ6cd9",
        "outputId": "a093a6af-c559-48b8-d640-94f9965ce4c1"
      },
      "execution_count": null,
      "outputs": [
        {
          "output_type": "execute_result",
          "data": {
            "text/plain": [
              "0.6642995480955455"
            ]
          },
          "metadata": {},
          "execution_count": 23
        }
      ]
    },
    {
      "cell_type": "code",
      "source": [
        "y_pred=clf.predict(X_test)"
      ],
      "metadata": {
        "id": "8m0uetf5BuEI"
      },
      "execution_count": null,
      "outputs": []
    },
    {
      "cell_type": "code",
      "source": [
        "y_pred"
      ],
      "metadata": {
        "colab": {
          "base_uri": "https://localhost:8080/"
        },
        "id": "8UXB1ayEDPAJ",
        "outputId": "2c665c39-1086-4b9d-d590-07aa498b2272"
      },
      "execution_count": null,
      "outputs": [
        {
          "output_type": "execute_result",
          "data": {
            "text/plain": [
              "array([134, 129, 114, ...,  62, 129, 148])"
            ]
          },
          "metadata": {},
          "execution_count": 25
        }
      ]
    },
    {
      "cell_type": "code",
      "source": [
        "print(f'Accuracy with 195 classes:{accuracy_score(y_test.tolist(), y_pred.tolist())}')\n",
        "print(\"Weighted F1-Score with 195 classes: {}\".format(f1_score(y_test.tolist(), y_pred.tolist(), average='weighted')))"
      ],
      "metadata": {
        "colab": {
          "base_uri": "https://localhost:8080/"
        },
        "id": "noiuouO8pUXw",
        "outputId": "3d0efe3d-a2be-470c-dd6c-2538421747de"
      },
      "execution_count": null,
      "outputs": [
        {
          "output_type": "stream",
          "name": "stdout",
          "text": [
            "Accuracy with 195 classes:0.6642995480955455\n",
            "Weighted F1-Score with 195 classes: 0.6126346908099434\n"
          ]
        }
      ]
    },
    {
      "cell_type": "markdown",
      "source": [
        "# Working with 5 classes"
      ],
      "metadata": {
        "id": "4zfP1Ze19xho"
      }
    },
    {
      "cell_type": "code",
      "source": [
        "X_train5, y_train5 = MESHDataset(os.path.join(DATA_DIR,'output/train.npy'),os.path.join(DATA_DIR,'output/grouped_train_labels.npy')).get()\n",
        "X_valid5, y_valid5 = MESHDataset(os.path.join(DATA_DIR,'output/dev.npy'),os.path.join(DATA_DIR,'output/grouped_dev_labels.npy')).get()\n",
        "X_test5, y_test5 = MESHDataset(os.path.join(DATA_DIR,'output/test.npy'),os.path.join(DATA_DIR,'output/grouped_test_labels.npy')).get()\n",
        "\n",
        "X_train5,y_train5 = np.concatenate((X_train5,X_valid5),axis=0),np.concatenate((y_train5,y_valid5),axis=0)"
      ],
      "metadata": {
        "id": "-P6iJjp59xOm"
      },
      "execution_count": null,
      "outputs": []
    },
    {
      "cell_type": "code",
      "source": [
        "np.unique(y_test5)"
      ],
      "metadata": {
        "colab": {
          "base_uri": "https://localhost:8080/"
        },
        "id": "7ULl_oxV-HD0",
        "outputId": "2069631d-eadf-40ce-8eb5-7ef45bcb9da1"
      },
      "execution_count": null,
      "outputs": [
        {
          "output_type": "execute_result",
          "data": {
            "text/plain": [
              "array([0, 1, 2, 3, 4])"
            ]
          },
          "metadata": {},
          "execution_count": 8
        }
      ]
    },
    {
      "cell_type": "code",
      "source": [
        "clf5 = make_pipeline(LinearSVC(random_state=0, tol=1e-5,max_iter=10_000))\n",
        "clf5.fit(X_train5, y_train5)"
      ],
      "metadata": {
        "colab": {
          "base_uri": "https://localhost:8080/"
        },
        "id": "ajpET-D4-Lo6",
        "outputId": "9593a32a-4581-4bc0-d8d0-7797702fa442"
      },
      "execution_count": null,
      "outputs": [
        {
          "output_type": "execute_result",
          "data": {
            "text/plain": [
              "Pipeline(steps=[('linearsvc',\n",
              "                 LinearSVC(max_iter=10000, random_state=0, tol=1e-05))])"
            ]
          },
          "metadata": {},
          "execution_count": 28
        }
      ]
    },
    {
      "cell_type": "markdown",
      "source": [
        "Score..."
      ],
      "metadata": {
        "id": "WYkqjzTw-PXy"
      }
    },
    {
      "cell_type": "code",
      "source": [
        "y_pred5=clf5.predict(X_test5)"
      ],
      "metadata": {
        "id": "XacbJFzZDaLg"
      },
      "execution_count": null,
      "outputs": []
    },
    {
      "cell_type": "code",
      "source": [
        "y_pred5"
      ],
      "metadata": {
        "colab": {
          "base_uri": "https://localhost:8080/"
        },
        "id": "gZQTMUimDu-f",
        "outputId": "f0d00e32-b199-4e9d-cdc7-005e41d8d790"
      },
      "execution_count": null,
      "outputs": [
        {
          "output_type": "execute_result",
          "data": {
            "text/plain": [
              "array([3, 0, 3, ..., 0, 0, 0])"
            ]
          },
          "metadata": {},
          "execution_count": 33
        }
      ]
    },
    {
      "cell_type": "code",
      "source": [
        "\n",
        "print(f'Accuracy with 5 classes:{accuracy_score(y_test5.tolist(),y_pred5.tolist())}')\n",
        "print(\"Weighted F1-Score with 5 classes: {}\".format(f1_score(y_test5.tolist(), y_pred5.tolist(), average='weighted')))"
      ],
      "metadata": {
        "colab": {
          "base_uri": "https://localhost:8080/"
        },
        "id": "XeWZPcyIB1t8",
        "outputId": "10715efb-8d64-447e-c739-4e67580b9d29"
      },
      "execution_count": null,
      "outputs": [
        {
          "output_type": "stream",
          "name": "stdout",
          "text": [
            "Accuracy with 5 classes:0.7873897137938455\n",
            "Weighted F1-Score with 5 classes: 0.7862985198931911\n"
          ]
        }
      ]
    },
    {
      "cell_type": "code",
      "source": [
        "clf5.score(X_test5,y_test5)"
      ],
      "metadata": {
        "colab": {
          "base_uri": "https://localhost:8080/"
        },
        "id": "zm8KC9yw-QHt",
        "outputId": "621f2434-1a3c-4234-88c3-fddb414e09de"
      },
      "execution_count": null,
      "outputs": [
        {
          "output_type": "execute_result",
          "data": {
            "text/plain": [
              "0.7873897137938455"
            ]
          },
          "metadata": {},
          "execution_count": 35
        }
      ]
    }
  ]
}